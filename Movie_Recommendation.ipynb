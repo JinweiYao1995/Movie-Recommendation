{
  "nbformat": 4,
  "nbformat_minor": 0,
  "metadata": {
    "colab": {
      "name": "Movie Recommendation.ipynb",
      "provenance": [],
      "toc_visible": true
    },
    "kernelspec": {
      "name": "python3",
      "display_name": "Python 3"
    }
  },
  "cells": [
    {
      "cell_type": "markdown",
      "metadata": {
        "id": "Uvws5SpsfGgS",
        "colab_type": "text"
      },
      "source": [
        "# Set Up Spark"
      ]
    },
    {
      "cell_type": "code",
      "metadata": {
        "id": "CxBcXtR2bmtJ",
        "colab_type": "code",
        "outputId": "03836f8d-09ae-4816-beb3-9af72dbfaf1a",
        "colab": {
          "base_uri": "https://localhost:8080/",
          "height": 68
        }
      },
      "source": [
        "# Set up Spark\n",
        "!apt-get install openjdk-8-jdk-headless -qq > /dev/null\n",
        "!wget -q http://apache.mirrors.hoobly.com/spark/spark-2.4.5/spark-2.4.5-bin-hadoop2.7.tgz\n",
        "!tar xf spark-2.4.5-bin-hadoop2.7.tgz\n",
        "!pip install -q findspark\n",
        "!pip install py4j\n",
        "\n",
        "!export JAVA_HOME=$(/usr/lib/jvm/java-8-openjdk-amd64 -v 1.8)\n",
        "! echo $JAVA_HOME\n",
        "import os\n",
        "os.environ[\"JAVA_HOME\"] = \"/usr/lib/jvm/java-8-openjdk-amd64\"\n",
        "os.environ[\"SPARK_HOME\"] = \"/content/spark-2.4.5-bin-hadoop2.7\"\n",
        "import findspark\n",
        "findspark.init(\"spark-2.4.5-bin-hadoop2.7\")# SPARK_HOME\n",
        "\n",
        "from pyspark.sql import SparkSession\n",
        "spark = SparkSession.builder.master(\"local[*]\").getOrCreate()"
      ],
      "execution_count": 1,
      "outputs": [
        {
          "output_type": "stream",
          "text": [
            "Requirement already satisfied: py4j in /usr/local/lib/python3.6/dist-packages (0.10.9)\n",
            "/bin/bash: /usr/lib/jvm/java-8-openjdk-amd64: Is a directory\n",
            "\n"
          ],
          "name": "stdout"
        }
      ]
    },
    {
      "cell_type": "code",
      "metadata": {
        "id": "QlU_ZesmcNZK",
        "colab_type": "code",
        "outputId": "0960fa06-f19d-494f-9476-f765b22213ff",
        "colab": {
          "base_uri": "https://localhost:8080/",
          "height": 85
        }
      },
      "source": [
        "!ls"
      ],
      "execution_count": 2,
      "outputs": [
        {
          "output_type": "stream",
          "text": [
            "movies\t\t\t       spark-2.4.5-bin-hadoop2.7.tgz.1\n",
            "sample_data\t\t       spark-2.4.5-bin-hadoop2.7.tgz.2\n",
            "spark-2.4.5-bin-hadoop2.7      spark-2.4.5-bin-hadoop2.7.tgz.3\n",
            "spark-2.4.5-bin-hadoop2.7.tgz\n"
          ],
          "name": "stdout"
        }
      ]
    },
    {
      "cell_type": "code",
      "metadata": {
        "id": "-G3ScVeDcgHk",
        "colab_type": "code",
        "outputId": "798c2c98-fb61-4cba-cf87-d71d8355730c",
        "colab": {
          "base_uri": "https://localhost:8080/",
          "height": 34
        }
      },
      "source": [
        "spark.version"
      ],
      "execution_count": 3,
      "outputs": [
        {
          "output_type": "execute_result",
          "data": {
            "text/plain": [
              "'2.4.5'"
            ]
          },
          "metadata": {
            "tags": []
          },
          "execution_count": 3
        }
      ]
    },
    {
      "cell_type": "markdown",
      "metadata": {
        "id": "uBgCnLQsfbKv",
        "colab_type": "text"
      },
      "source": [
        "# Import Library"
      ]
    },
    {
      "cell_type": "code",
      "metadata": {
        "id": "15ugzJfIqtJz",
        "colab_type": "code",
        "colab": {
          "base_uri": "https://localhost:8080/",
          "height": 136
        },
        "outputId": "efff3d8b-b434-4962-90bb-0cca4806b4fc"
      },
      "source": [
        "pip install elasticsearch"
      ],
      "execution_count": 75,
      "outputs": [
        {
          "output_type": "stream",
          "text": [
            "Collecting elasticsearch\n",
            "\u001b[?25l  Downloading https://files.pythonhosted.org/packages/4a/33/d0ed32e077f7dc860153fa866fc52ac312886c9890962ff29379aa753dd1/elasticsearch-7.7.1-py2.py3-none-any.whl (99kB)\n",
            "\r\u001b[K     |███▎                            | 10kB 16.7MB/s eta 0:00:01\r\u001b[K     |██████▋                         | 20kB 2.2MB/s eta 0:00:01\r\u001b[K     |██████████                      | 30kB 2.9MB/s eta 0:00:01\r\u001b[K     |█████████████▏                  | 40kB 3.1MB/s eta 0:00:01\r\u001b[K     |████████████████▌               | 51kB 2.5MB/s eta 0:00:01\r\u001b[K     |███████████████████▉            | 61kB 2.9MB/s eta 0:00:01\r\u001b[K     |███████████████████████         | 71kB 3.1MB/s eta 0:00:01\r\u001b[K     |██████████████████████████▍     | 81kB 3.5MB/s eta 0:00:01\r\u001b[K     |█████████████████████████████▊  | 92kB 3.6MB/s eta 0:00:01\r\u001b[K     |████████████████████████████████| 102kB 2.6MB/s \n",
            "\u001b[?25hRequirement already satisfied: certifi in /usr/local/lib/python3.6/dist-packages (from elasticsearch) (2020.4.5.1)\n",
            "Requirement already satisfied: urllib3>=1.21.1 in /usr/local/lib/python3.6/dist-packages (from elasticsearch) (1.24.3)\n",
            "Installing collected packages: elasticsearch\n",
            "Successfully installed elasticsearch-7.7.1\n"
          ],
          "name": "stdout"
        }
      ]
    },
    {
      "cell_type": "code",
      "metadata": {
        "id": "iOVhQyuCfiCr",
        "colab_type": "code",
        "colab": {}
      },
      "source": [
        "import numpy as np\n",
        "import pandas as pd\n",
        "import seaborn as sns\n",
        "import matplotlib.pyplot as plt\n",
        "import math\n",
        "%matplotlib inline\n",
        "from IPython.display import Image, HTML, display\n",
        "from elasticsearch import Elasticsearch"
      ],
      "execution_count": 0,
      "outputs": []
    },
    {
      "cell_type": "markdown",
      "metadata": {
        "id": "Y_zLpv6cJNhl",
        "colab_type": "text"
      },
      "source": [
        "#Part0:Abstract \n",
        "\n",
        "In this project, we build a recommender engine using Apache Spark and Elasticsearch. The recommendation model is trained in Spark using matrix factorization method and alternating least squares technique. Elasticsearch (and its vector scoring plugin) is used to persist the trained model, query, score, rank, and display results, such as the movies that certain users may find interesting. We also use The Movie Database (TMdb) API to dislay recommended movie posters to the user.\n",
        "\n"
      ]
    },
    {
      "cell_type": "markdown",
      "metadata": {
        "id": "zkI7lW7xg8RO",
        "colab_type": "text"
      },
      "source": [
        "# Part 1: Data ETL and Data Exploration"
      ]
    },
    {
      "cell_type": "markdown",
      "metadata": {
        "id": "cg0ITmGrfnPN",
        "colab_type": "text"
      },
      "source": [
        "## Read Data from your machine\n",
        "\n",
        "\n",
        "\n",
        "\n"
      ]
    },
    {
      "cell_type": "code",
      "metadata": {
        "id": "CbsoaAHha_GN",
        "colab_type": "code",
        "outputId": "f5352eda-f1d5-47b1-ed21-bda92379e06b",
        "colab": {
          "base_uri": "https://localhost:8080/",
          "height": 54
        }
      },
      "source": [
        "'''\n",
        "from google.colab import files\n",
        "\n",
        "uploaded = files.upload()\n",
        "\n",
        "for fn in uploaded.keys():\n",
        "  print('User uploaded file \"{name}\" with length {length} bytes'.format(\n",
        "      name=fn, length=len(uploaded[fn])))\n",
        "  '''\n"
      ],
      "execution_count": 5,
      "outputs": [
        {
          "output_type": "execute_result",
          "data": {
            "text/plain": [
              "'\\nfrom google.colab import files\\n\\nuploaded = files.upload()\\n\\nfor fn in uploaded.keys():\\n  print(\\'User uploaded file \"{name}\" with length {length} bytes\\'.format(\\n      name=fn, length=len(uploaded[fn])))\\n  '"
            ]
          },
          "metadata": {
            "tags": []
          },
          "execution_count": 5
        }
      ]
    },
    {
      "cell_type": "code",
      "metadata": {
        "id": "ClrXMDOJdTMH",
        "colab_type": "code",
        "outputId": "4fca5263-e513-4139-bed7-0ead557a69c5",
        "colab": {
          "base_uri": "https://localhost:8080/",
          "height": 34
        }
      },
      "source": [
        "import os \n",
        "os.listdir('./movies')"
      ],
      "execution_count": 6,
      "outputs": [
        {
          "output_type": "execute_result",
          "data": {
            "text/plain": [
              "['ratings.csv', 'movies.csv', 'links.csv', 'tags.csv']"
            ]
          },
          "metadata": {
            "tags": []
          },
          "execution_count": 6
        }
      ]
    },
    {
      "cell_type": "code",
      "metadata": {
        "id": "dcykYcqwf5dV",
        "colab_type": "code",
        "colab": {}
      },
      "source": [
        "ratings_df = spark.read.csv('./movies/ratings.csv',inferSchema=True, header =True)\n",
        "movies_df = spark.read.csv('./movies/movies.csv',inferSchema=True, header =True)\n",
        "links_df = spark.read.csv('./movies/links.csv',inferSchema=True, header =True)\n",
        "tags_df = spark.read.csv('./movies/tags.csv',inferSchema=True, header =True)"
      ],
      "execution_count": 0,
      "outputs": []
    },
    {
      "cell_type": "code",
      "metadata": {
        "id": "JO7oqJm0HE1V",
        "colab_type": "code",
        "outputId": "7705c881-fca9-4b30-b6f0-dbcc7bf85b0f",
        "colab": {
          "base_uri": "https://localhost:8080/",
          "height": 391
        }
      },
      "source": [
        "ratings_df.printSchema()\n",
        "movies_df.printSchema()\n",
        "tags_df.printSchema()\n",
        "links_df.printSchema()"
      ],
      "execution_count": 8,
      "outputs": [
        {
          "output_type": "stream",
          "text": [
            "root\n",
            " |-- userId: integer (nullable = true)\n",
            " |-- movieId: integer (nullable = true)\n",
            " |-- rating: double (nullable = true)\n",
            " |-- timestamp: integer (nullable = true)\n",
            "\n",
            "root\n",
            " |-- movieId: integer (nullable = true)\n",
            " |-- title: string (nullable = true)\n",
            " |-- genres: string (nullable = true)\n",
            "\n",
            "root\n",
            " |-- userId: integer (nullable = true)\n",
            " |-- movieId: integer (nullable = true)\n",
            " |-- tag: string (nullable = true)\n",
            " |-- timestamp: integer (nullable = true)\n",
            "\n",
            "root\n",
            " |-- movieId: integer (nullable = true)\n",
            " |-- imdbId: integer (nullable = true)\n",
            " |-- tmdbId: integer (nullable = true)\n",
            "\n"
          ],
          "name": "stdout"
        }
      ]
    },
    {
      "cell_type": "markdown",
      "metadata": {
        "id": "_8oRvUt1vFci",
        "colab_type": "text"
      },
      "source": [
        "**Check null in each table.**\n"
      ]
    },
    {
      "cell_type": "code",
      "metadata": {
        "id": "tpos9kPevSZT",
        "colab_type": "code",
        "colab": {
          "base_uri": "https://localhost:8080/",
          "height": 102
        },
        "outputId": "92398f49-6678-4c8b-b3e1-ebcde1966a24"
      },
      "source": [
        "print(\"If there is missing data in each table?\")\n",
        "print('movie_df: {}'.format(movies_df.count() == movies_df.na.drop().count()))\n",
        "print('ratings_df: {}'.format(ratings_df.count() == ratings_df.na.drop().count()))\n",
        "print('links_df: {}'.format(links_df.count() == links_df.na.drop().count()))\n",
        "print('tags_df: {}'.format(tags_df.count() == tags_df.na.drop().count()))"
      ],
      "execution_count": 89,
      "outputs": [
        {
          "output_type": "stream",
          "text": [
            "If there is missing data in each table?\n",
            "movie_df: True\n",
            "ratings_df: True\n",
            "links_df: False\n",
            "tags_df: True\n"
          ],
          "name": "stdout"
        }
      ]
    },
    {
      "cell_type": "code",
      "metadata": {
        "id": "Sxyv0lulwDaD",
        "colab_type": "code",
        "colab": {
          "base_uri": "https://localhost:8080/",
          "height": 312
        },
        "outputId": "285a83b6-d437-4aaf-bb2d-07ab1d3ecac8"
      },
      "source": [
        "# get statistics for users\n",
        "users_result = ratings_df.groupBy(\"userId\").count()\\\n",
        ".orderBy('count', ascending=False)\n",
        "\n",
        "fig = plt.figure()\n",
        "tmp=sns.distplot(users_result.toPandas()['count'], hist=True)\n",
        "plt.ylabel('percentage')\n",
        "plt.xlabel('number of ratings')\n",
        "tmp.set_title('Distribution of number of ratings (per user)')\n",
        "display(tmp)\n"
      ],
      "execution_count": 90,
      "outputs": [
        {
          "output_type": "display_data",
          "data": {
            "text/plain": [
              "<matplotlib.axes._subplots.AxesSubplot at 0x7f7177b09b38>"
            ]
          },
          "metadata": {
            "tags": []
          }
        },
        {
          "output_type": "display_data",
          "data": {
            "image/png": "[encoded data removed]",
            "text/plain": [
              "<Figure size 432x288 with 1 Axes>"
            ]
          },
          "metadata": {
            "tags": [],
            "needs_background": "light"
          }
        }
      ]
    },
    {
      "cell_type": "code",
      "metadata": {
        "id": "YGxgPJG9wcMW",
        "colab_type": "code",
        "colab": {
          "base_uri": "https://localhost:8080/",
          "height": 204
        },
        "outputId": "26770e54-1dd1-4ce1-f2e1-e5e10edde3b0"
      },
      "source": [
        "users_result.toPandas().head(5)"
      ],
      "execution_count": 91,
      "outputs": [
        {
          "output_type": "execute_result",
          "data": {
            "text/html": [
              "<div>\n",
              "<style scoped>\n",
              "    .dataframe tbody tr th:only-of-type {\n",
              "        vertical-align: middle;\n",
              "    }\n",
              "\n",
              "    .dataframe tbody tr th {\n",
              "        vertical-align: top;\n",
              "    }\n",
              "\n",
              "    .dataframe thead th {\n",
              "        text-align: right;\n",
              "    }\n",
              "</style>\n",
              "<table border=\"1\" class=\"dataframe\">\n",
              "  <thead>\n",
              "    <tr style=\"text-align: right;\">\n",
              "      <th></th>\n",
              "      <th>userId</th>\n",
              "      <th>count</th>\n",
              "    </tr>\n",
              "  </thead>\n",
              "  <tbody>\n",
              "    <tr>\n",
              "      <th>0</th>\n",
              "      <td>414</td>\n",
              "      <td>2698</td>\n",
              "    </tr>\n",
              "    <tr>\n",
              "      <th>1</th>\n",
              "      <td>599</td>\n",
              "      <td>2478</td>\n",
              "    </tr>\n",
              "    <tr>\n",
              "      <th>2</th>\n",
              "      <td>474</td>\n",
              "      <td>2108</td>\n",
              "    </tr>\n",
              "    <tr>\n",
              "      <th>3</th>\n",
              "      <td>448</td>\n",
              "      <td>1864</td>\n",
              "    </tr>\n",
              "    <tr>\n",
              "      <th>4</th>\n",
              "      <td>274</td>\n",
              "      <td>1346</td>\n",
              "    </tr>\n",
              "  </tbody>\n",
              "</table>\n",
              "</div>"
            ],
            "text/plain": [
              "   userId  count\n",
              "0     414   2698\n",
              "1     599   2478\n",
              "2     474   2108\n",
              "3     448   1864\n",
              "4     274   1346"
            ]
          },
          "metadata": {
            "tags": []
          },
          "execution_count": 91
        }
      ]
    },
    {
      "cell_type": "markdown",
      "metadata": {
        "id": "oJmRa6d2wkph",
        "colab_type": "text"
      },
      "source": [
        "##Movies' information\n"
      ]
    },
    {
      "cell_type": "code",
      "metadata": {
        "id": "nHdfp8dYwvFb",
        "colab_type": "code",
        "colab": {
          "base_uri": "https://localhost:8080/",
          "height": 312
        },
        "outputId": "720741a3-4bb0-4377-b376-6ef30f26b40e"
      },
      "source": [
        "movies_result=ratings_df.groupBy(\"movieId\").count()\\\n",
        ".orderBy('count', ascending=False)\n",
        "\n",
        "fig = plt.figure()\n",
        "tmp=sns.distplot(movies_result.toPandas()['count'], color = 'burlywood', hist=True)\n",
        "plt.ylabel('percentage')\n",
        "plt.xlabel('number of ratings')\n",
        "tmp.set_title('Distribution of number of ratings (per movie)')\n",
        "display(tmp)"
      ],
      "execution_count": 92,
      "outputs": [
        {
          "output_type": "display_data",
          "data": {
            "text/plain": [
              "<matplotlib.axes._subplots.AxesSubplot at 0x7f717a6ba828>"
            ]
          },
          "metadata": {
            "tags": []
          }
        },
        {
          "output_type": "display_data",
          "data": {
            "image/png": "[encoded data removed]",
            "text/plain": [
              "<Figure size 432x288 with 1 Axes>"
            ]
          },
          "metadata": {
            "tags": [],
            "needs_background": "light"
          }
        }
      ]
    },
    {
      "cell_type": "code",
      "metadata": {
        "id": "nCFM8RP0w1ZN",
        "colab_type": "code",
        "colab": {
          "base_uri": "https://localhost:8080/",
          "height": 204
        },
        "outputId": "6afdb5a6-bf5b-4bff-f416-6bc5311dd726"
      },
      "source": [
        "movies_result.toPandas().head(5)"
      ],
      "execution_count": 93,
      "outputs": [
        {
          "output_type": "execute_result",
          "data": {
            "text/html": [
              "<div>\n",
              "<style scoped>\n",
              "    .dataframe tbody tr th:only-of-type {\n",
              "        vertical-align: middle;\n",
              "    }\n",
              "\n",
              "    .dataframe tbody tr th {\n",
              "        vertical-align: top;\n",
              "    }\n",
              "\n",
              "    .dataframe thead th {\n",
              "        text-align: right;\n",
              "    }\n",
              "</style>\n",
              "<table border=\"1\" class=\"dataframe\">\n",
              "  <thead>\n",
              "    <tr style=\"text-align: right;\">\n",
              "      <th></th>\n",
              "      <th>movieId</th>\n",
              "      <th>count</th>\n",
              "    </tr>\n",
              "  </thead>\n",
              "  <tbody>\n",
              "    <tr>\n",
              "      <th>0</th>\n",
              "      <td>356</td>\n",
              "      <td>329</td>\n",
              "    </tr>\n",
              "    <tr>\n",
              "      <th>1</th>\n",
              "      <td>318</td>\n",
              "      <td>317</td>\n",
              "    </tr>\n",
              "    <tr>\n",
              "      <th>2</th>\n",
              "      <td>296</td>\n",
              "      <td>307</td>\n",
              "    </tr>\n",
              "    <tr>\n",
              "      <th>3</th>\n",
              "      <td>593</td>\n",
              "      <td>279</td>\n",
              "    </tr>\n",
              "    <tr>\n",
              "      <th>4</th>\n",
              "      <td>2571</td>\n",
              "      <td>278</td>\n",
              "    </tr>\n",
              "  </tbody>\n",
              "</table>\n",
              "</div>"
            ],
            "text/plain": [
              "   movieId  count\n",
              "0      356    329\n",
              "1      318    317\n",
              "2      296    307\n",
              "3      593    279\n",
              "4     2571    278"
            ]
          },
          "metadata": {
            "tags": []
          },
          "execution_count": 93
        }
      ]
    },
    {
      "cell_type": "code",
      "metadata": {
        "id": "WMl5zkgdw5M4",
        "colab_type": "code",
        "colab": {
          "base_uri": "https://localhost:8080/",
          "height": 297
        },
        "outputId": "b5891465-0e09-4859-cea4-b778677e12de"
      },
      "source": [
        "movies_result.toPandas().describe()"
      ],
      "execution_count": 94,
      "outputs": [
        {
          "output_type": "execute_result",
          "data": {
            "text/html": [
              "<div>\n",
              "<style scoped>\n",
              "    .dataframe tbody tr th:only-of-type {\n",
              "        vertical-align: middle;\n",
              "    }\n",
              "\n",
              "    .dataframe tbody tr th {\n",
              "        vertical-align: top;\n",
              "    }\n",
              "\n",
              "    .dataframe thead th {\n",
              "        text-align: right;\n",
              "    }\n",
              "</style>\n",
              "<table border=\"1\" class=\"dataframe\">\n",
              "  <thead>\n",
              "    <tr style=\"text-align: right;\">\n",
              "      <th></th>\n",
              "      <th>movieId</th>\n",
              "      <th>count</th>\n",
              "    </tr>\n",
              "  </thead>\n",
              "  <tbody>\n",
              "    <tr>\n",
              "      <th>count</th>\n",
              "      <td>9724.000000</td>\n",
              "      <td>9724.000000</td>\n",
              "    </tr>\n",
              "    <tr>\n",
              "      <th>mean</th>\n",
              "      <td>42245.024373</td>\n",
              "      <td>10.369807</td>\n",
              "    </tr>\n",
              "    <tr>\n",
              "      <th>std</th>\n",
              "      <td>52191.137320</td>\n",
              "      <td>22.401005</td>\n",
              "    </tr>\n",
              "    <tr>\n",
              "      <th>min</th>\n",
              "      <td>1.000000</td>\n",
              "      <td>1.000000</td>\n",
              "    </tr>\n",
              "    <tr>\n",
              "      <th>25%</th>\n",
              "      <td>3245.500000</td>\n",
              "      <td>1.000000</td>\n",
              "    </tr>\n",
              "    <tr>\n",
              "      <th>50%</th>\n",
              "      <td>7300.000000</td>\n",
              "      <td>3.000000</td>\n",
              "    </tr>\n",
              "    <tr>\n",
              "      <th>75%</th>\n",
              "      <td>76739.250000</td>\n",
              "      <td>9.000000</td>\n",
              "    </tr>\n",
              "    <tr>\n",
              "      <th>max</th>\n",
              "      <td>193609.000000</td>\n",
              "      <td>329.000000</td>\n",
              "    </tr>\n",
              "  </tbody>\n",
              "</table>\n",
              "</div>"
            ],
            "text/plain": [
              "             movieId        count\n",
              "count    9724.000000  9724.000000\n",
              "mean    42245.024373    10.369807\n",
              "std     52191.137320    22.401005\n",
              "min         1.000000     1.000000\n",
              "25%      3245.500000     1.000000\n",
              "50%      7300.000000     3.000000\n",
              "75%     76739.250000     9.000000\n",
              "max    193609.000000   329.000000"
            ]
          },
          "metadata": {
            "tags": []
          },
          "execution_count": 94
        }
      ]
    },
    {
      "cell_type": "markdown",
      "metadata": {
        "id": "UyjFLUCOxC_Z",
        "colab_type": "text"
      },
      "source": [
        "## Rating's information\n"
      ]
    },
    {
      "cell_type": "code",
      "metadata": {
        "id": "nBfl9p3dxHXf",
        "colab_type": "code",
        "colab": {
          "base_uri": "https://localhost:8080/",
          "height": 312
        },
        "outputId": "405b3ddd-a046-4da0-f735-5a03114d0782"
      },
      "source": [
        "## get statistics for ratings\n",
        "ratings_result=ratings_df.groupBy('rating').count()\\\n",
        ".withColumn('rating', ratings_df.rating.cast('float'))\\\n",
        ".toPandas()\n",
        "\n",
        "fig = plt.figure()\n",
        "tmp=sns.barplot(x='rating', y='count', data=ratings_result)\n",
        "tmp.set_title('Number of movies of each rating')\n",
        "display(tmp)"
      ],
      "execution_count": 95,
      "outputs": [
        {
          "output_type": "display_data",
          "data": {
            "text/plain": [
              "<matplotlib.axes._subplots.AxesSubplot at 0x7f71781da6d8>"
            ]
          },
          "metadata": {
            "tags": []
          }
        },
        {
          "output_type": "display_data",
          "data": {
            "image/png": "[encoded data removed]",
            "text/plain": [
              "<Figure size 432x288 with 1 Axes>"
            ]
          },
          "metadata": {
            "tags": [],
            "needs_background": "light"
          }
        }
      ]
    },
    {
      "cell_type": "markdown",
      "metadata": {
        "id": "6_IoCEFexcGY",
        "colab_type": "text"
      },
      "source": [
        "## Unrated movies"
      ]
    },
    {
      "cell_type": "code",
      "metadata": {
        "id": "LHIkEUj0xhb1",
        "colab_type": "code",
        "colab": {
          "base_uri": "https://localhost:8080/",
          "height": 624
        },
        "outputId": "8cb11153-715d-40db-c7a4-b9320ef356c8"
      },
      "source": [
        "rated_list=ratings_df.select(ratings_df.movieId)\\\n",
        ".where('rating is not null')\\\n",
        ".withColumnRenamed('movieId', 'rated').distinct()\n",
        "\n",
        "unrated_list=movies_df.join(rated_list, movies_df.movieId==rated_list.rated, \"left_outer\")\\\n",
        ".where('rated is null')\n",
        "\n",
        "print('{} movies are unrated, {} movies are rated'.format(unrated_list.count(), rated_list.count()))\n",
        "\n",
        "unrated_list.toPandas().fillna('No')"
      ],
      "execution_count": 96,
      "outputs": [
        {
          "output_type": "stream",
          "text": [
            "18 movies are unrated, 9724 movies are rated\n"
          ],
          "name": "stdout"
        },
        {
          "output_type": "execute_result",
          "data": {
            "text/html": [
              "<div>\n",
              "<style scoped>\n",
              "    .dataframe tbody tr th:only-of-type {\n",
              "        vertical-align: middle;\n",
              "    }\n",
              "\n",
              "    .dataframe tbody tr th {\n",
              "        vertical-align: top;\n",
              "    }\n",
              "\n",
              "    .dataframe thead th {\n",
              "        text-align: right;\n",
              "    }\n",
              "</style>\n",
              "<table border=\"1\" class=\"dataframe\">\n",
              "  <thead>\n",
              "    <tr style=\"text-align: right;\">\n",
              "      <th></th>\n",
              "      <th>movieId</th>\n",
              "      <th>title</th>\n",
              "      <th>genres</th>\n",
              "      <th>rated</th>\n",
              "    </tr>\n",
              "  </thead>\n",
              "  <tbody>\n",
              "    <tr>\n",
              "      <th>0</th>\n",
              "      <td>1076</td>\n",
              "      <td>Innocents, The (1961)</td>\n",
              "      <td>Drama|Horror|Thriller</td>\n",
              "      <td>No</td>\n",
              "    </tr>\n",
              "    <tr>\n",
              "      <th>1</th>\n",
              "      <td>2939</td>\n",
              "      <td>Niagara (1953)</td>\n",
              "      <td>Drama|Thriller</td>\n",
              "      <td>No</td>\n",
              "    </tr>\n",
              "    <tr>\n",
              "      <th>2</th>\n",
              "      <td>3338</td>\n",
              "      <td>For All Mankind (1989)</td>\n",
              "      <td>Documentary</td>\n",
              "      <td>No</td>\n",
              "    </tr>\n",
              "    <tr>\n",
              "      <th>3</th>\n",
              "      <td>3456</td>\n",
              "      <td>Color of Paradise, The (Rang-e khoda) (1999)</td>\n",
              "      <td>Drama</td>\n",
              "      <td>No</td>\n",
              "    </tr>\n",
              "    <tr>\n",
              "      <th>4</th>\n",
              "      <td>4194</td>\n",
              "      <td>I Know Where I'm Going! (1945)</td>\n",
              "      <td>Drama|Romance|War</td>\n",
              "      <td>No</td>\n",
              "    </tr>\n",
              "    <tr>\n",
              "      <th>5</th>\n",
              "      <td>5721</td>\n",
              "      <td>Chosen, The (1981)</td>\n",
              "      <td>Drama</td>\n",
              "      <td>No</td>\n",
              "    </tr>\n",
              "    <tr>\n",
              "      <th>6</th>\n",
              "      <td>6668</td>\n",
              "      <td>Road Home, The (Wo de fu qin mu qin) (1999)</td>\n",
              "      <td>Drama|Romance</td>\n",
              "      <td>No</td>\n",
              "    </tr>\n",
              "    <tr>\n",
              "      <th>7</th>\n",
              "      <td>6849</td>\n",
              "      <td>Scrooge (1970)</td>\n",
              "      <td>Drama|Fantasy|Musical</td>\n",
              "      <td>No</td>\n",
              "    </tr>\n",
              "    <tr>\n",
              "      <th>8</th>\n",
              "      <td>7020</td>\n",
              "      <td>Proof (1991)</td>\n",
              "      <td>Comedy|Drama|Romance</td>\n",
              "      <td>No</td>\n",
              "    </tr>\n",
              "    <tr>\n",
              "      <th>9</th>\n",
              "      <td>7792</td>\n",
              "      <td>Parallax View, The (1974)</td>\n",
              "      <td>Thriller</td>\n",
              "      <td>No</td>\n",
              "    </tr>\n",
              "    <tr>\n",
              "      <th>10</th>\n",
              "      <td>8765</td>\n",
              "      <td>This Gun for Hire (1942)</td>\n",
              "      <td>Crime|Film-Noir|Thriller</td>\n",
              "      <td>No</td>\n",
              "    </tr>\n",
              "    <tr>\n",
              "      <th>11</th>\n",
              "      <td>25855</td>\n",
              "      <td>Roaring Twenties, The (1939)</td>\n",
              "      <td>Crime|Drama|Thriller</td>\n",
              "      <td>No</td>\n",
              "    </tr>\n",
              "    <tr>\n",
              "      <th>12</th>\n",
              "      <td>26085</td>\n",
              "      <td>Mutiny on the Bounty (1962)</td>\n",
              "      <td>Adventure|Drama|Romance</td>\n",
              "      <td>No</td>\n",
              "    </tr>\n",
              "    <tr>\n",
              "      <th>13</th>\n",
              "      <td>30892</td>\n",
              "      <td>In the Realms of the Unreal (2004)</td>\n",
              "      <td>Animation|Documentary</td>\n",
              "      <td>No</td>\n",
              "    </tr>\n",
              "    <tr>\n",
              "      <th>14</th>\n",
              "      <td>32160</td>\n",
              "      <td>Twentieth Century (1934)</td>\n",
              "      <td>Comedy</td>\n",
              "      <td>No</td>\n",
              "    </tr>\n",
              "    <tr>\n",
              "      <th>15</th>\n",
              "      <td>32371</td>\n",
              "      <td>Call Northside 777 (1948)</td>\n",
              "      <td>Crime|Drama|Film-Noir</td>\n",
              "      <td>No</td>\n",
              "    </tr>\n",
              "    <tr>\n",
              "      <th>16</th>\n",
              "      <td>34482</td>\n",
              "      <td>Browning Version, The (1951)</td>\n",
              "      <td>Drama</td>\n",
              "      <td>No</td>\n",
              "    </tr>\n",
              "    <tr>\n",
              "      <th>17</th>\n",
              "      <td>85565</td>\n",
              "      <td>Chalet Girl (2011)</td>\n",
              "      <td>Comedy|Romance</td>\n",
              "      <td>No</td>\n",
              "    </tr>\n",
              "  </tbody>\n",
              "</table>\n",
              "</div>"
            ],
            "text/plain": [
              "    movieId  ... rated\n",
              "0      1076  ...    No\n",
              "1      2939  ...    No\n",
              "2      3338  ...    No\n",
              "3      3456  ...    No\n",
              "4      4194  ...    No\n",
              "5      5721  ...    No\n",
              "6      6668  ...    No\n",
              "7      6849  ...    No\n",
              "8      7020  ...    No\n",
              "9      7792  ...    No\n",
              "10     8765  ...    No\n",
              "11    25855  ...    No\n",
              "12    26085  ...    No\n",
              "13    30892  ...    No\n",
              "14    32160  ...    No\n",
              "15    32371  ...    No\n",
              "16    34482  ...    No\n",
              "17    85565  ...    No\n",
              "\n",
              "[18 rows x 4 columns]"
            ]
          },
          "metadata": {
            "tags": []
          },
          "execution_count": 96
        }
      ]
    },
    {
      "cell_type": "markdown",
      "metadata": {
        "id": "rAPYVWQwxqsJ",
        "colab_type": "text"
      },
      "source": [
        "## Sparsity"
      ]
    },
    {
      "cell_type": "code",
      "metadata": {
        "id": "5MKn1atvxvtz",
        "colab_type": "code",
        "colab": {
          "base_uri": "https://localhost:8080/",
          "height": 34
        },
        "outputId": "d7691909-d5bd-4d25-aff5-ab806adcf316"
      },
      "source": [
        "## compute sparsity\n",
        "tmp=ratings_df.count()\n",
        "print('sparsity is: {}'.format(1-tmp/9724/610))"
      ],
      "execution_count": 97,
      "outputs": [
        {
          "output_type": "stream",
          "text": [
            "sparsity is: 0.9830003169443864\n"
          ],
          "name": "stdout"
        }
      ]
    },
    {
      "cell_type": "markdown",
      "metadata": {
        "id": "QI3dIHq6Js6g",
        "colab_type": "text"
      },
      "source": [
        "## Spark SQL and OLAP\n"
      ]
    },
    {
      "cell_type": "code",
      "metadata": {
        "id": "GKndLFteLsPa",
        "colab_type": "code",
        "colab": {}
      },
      "source": [
        "from pyspark.sql.types import *\n",
        "from pyspark.sql.functions import col, mean, udf, lit, current_timestamp, unix_timestamp, array_contains\n",
        "from pyspark.sql import functions as F\n",
        "from pyspark.sql import SQLContext"
      ],
      "execution_count": 0,
      "outputs": []
    },
    {
      "cell_type": "markdown",
      "metadata": {
        "id": "nql6DKA0J4V9",
        "colab_type": "text"
      },
      "source": [
        "Q1: The number of Users"
      ]
    },
    {
      "cell_type": "code",
      "metadata": {
        "id": "oPNOk8mfJ9cD",
        "colab_type": "code",
        "outputId": "e9218ee4-f499-4dee-e474-9f60689d36ca",
        "colab": {
          "base_uri": "https://localhost:8080/",
          "height": 34
        }
      },
      "source": [
        "ratings_df.select('UserId').distinct().count()"
      ],
      "execution_count": 10,
      "outputs": [
        {
          "output_type": "execute_result",
          "data": {
            "text/plain": [
              "610"
            ]
          },
          "metadata": {
            "tags": []
          },
          "execution_count": 10
        }
      ]
    },
    {
      "cell_type": "markdown",
      "metadata": {
        "id": "hDARKD2DKPpG",
        "colab_type": "text"
      },
      "source": [
        "\n",
        "Q2: The number of Movies"
      ]
    },
    {
      "cell_type": "code",
      "metadata": {
        "id": "Pmt4w_x4KUyr",
        "colab_type": "code",
        "outputId": "ad302706-a227-4f3b-ff84-92e0faae0cd6",
        "colab": {
          "base_uri": "https://localhost:8080/",
          "height": 34
        }
      },
      "source": [
        "movies_df.select('movieID').distinct().count()"
      ],
      "execution_count": 11,
      "outputs": [
        {
          "output_type": "execute_result",
          "data": {
            "text/plain": [
              "9742"
            ]
          },
          "metadata": {
            "tags": []
          },
          "execution_count": 11
        }
      ]
    },
    {
      "cell_type": "markdown",
      "metadata": {
        "id": "mqReprCiKl2J",
        "colab_type": "text"
      },
      "source": [
        "Q3: How many movies are rated by users? List movies not rated before"
      ]
    },
    {
      "cell_type": "code",
      "metadata": {
        "id": "U8VuIi_1LXEc",
        "colab_type": "code",
        "outputId": "ee90a19c-dd16-4cfc-e940-8812de42da87",
        "colab": {
          "base_uri": "https://localhost:8080/",
          "height": 34
        }
      },
      "source": [
        "ratings_df.select('movieId').distinct().count()"
      ],
      "execution_count": 12,
      "outputs": [
        {
          "output_type": "execute_result",
          "data": {
            "text/plain": [
              "9724"
            ]
          },
          "metadata": {
            "tags": []
          },
          "execution_count": 12
        }
      ]
    },
    {
      "cell_type": "code",
      "metadata": {
        "id": "YKY6XuxxLjCq",
        "colab_type": "code",
        "outputId": "46bde4f8-c15c-4b45-9291-721defd46940",
        "colab": {
          "base_uri": "https://localhost:8080/",
          "height": 408
        }
      },
      "source": [
        "ratings_df.createOrReplaceTempView(\"ratings_view\")\n",
        "movies_df.createOrReplaceTempView(\"movies_view\")\n",
        "\n",
        "# List movies not rated before\n",
        "spark.sql(\n",
        "    '''SELECT DISTINCT movieID \n",
        "       FROM movies_view \n",
        "       WHERE movieID NOT IN (SELECT DISTINCT movieID FROM ratings_view)\n",
        "    ''').show()\n",
        "\n"
      ],
      "execution_count": 13,
      "outputs": [
        {
          "output_type": "stream",
          "text": [
            "+-------+\n",
            "|movieID|\n",
            "+-------+\n",
            "|   3456|\n",
            "|   2939|\n",
            "|   7020|\n",
            "|   6668|\n",
            "|   7792|\n",
            "|  26085|\n",
            "|  34482|\n",
            "|  32160|\n",
            "|  30892|\n",
            "|   6849|\n",
            "|   1076|\n",
            "|  85565|\n",
            "|   3338|\n",
            "|  25855|\n",
            "|   4194|\n",
            "|   8765|\n",
            "|   5721|\n",
            "|  32371|\n",
            "+-------+\n",
            "\n"
          ],
          "name": "stdout"
        }
      ]
    },
    {
      "cell_type": "markdown",
      "metadata": {
        "id": "9M5NQka3sv-I",
        "colab_type": "text"
      },
      "source": [
        "Q4: List Movie Genres"
      ]
    },
    {
      "cell_type": "code",
      "metadata": {
        "id": "b1XsqjA1q12_",
        "colab_type": "code",
        "outputId": "25161b35-1456-4062-a553-ba545f7d44c7",
        "colab": {
          "base_uri": "https://localhost:8080/",
          "height": 637
        }
      },
      "source": [
        "movies_genres_temp=movies_df.where('genres is not null')\\\n",
        ".select('title', F.explode(F.split('genres', '\\|'))\\\n",
        ".alias('genres'))\n",
        "\n",
        "movies_genres=movies_genres_temp.groupBy('genres').count()\\\n",
        ".orderBy('count', ascending=False)\\\n",
        ".toPandas()\n",
        "\n",
        "plt.figure(figsize=(50,20))\n",
        "tmp=sns.barplot(x='genres', y='count', data=movies_genres)\n",
        "tmp.set_title('Number of movies of each category')\n",
        "display(tmp)"
      ],
      "execution_count": 14,
      "outputs": [
        {
          "output_type": "display_data",
          "data": {
            "text/plain": [
              "<matplotlib.axes._subplots.AxesSubplot at 0x7f71a30254e0>"
            ]
          },
          "metadata": {
            "tags": []
          }
        },
        {
          "output_type": "display_data",
          "data": {
            "image/png": "[encoded data removed]",
            "text/plain": [
              "<Figure size 3600x1440 with 1 Axes>"
            ]
          },
          "metadata": {
            "tags": [],
            "needs_background": "light"
          }
        }
      ]
    },
    {
      "cell_type": "markdown",
      "metadata": {
        "id": "Murnm1OVsyiK",
        "colab_type": "text"
      },
      "source": [
        "Q5: Movie for Each Category"
      ]
    },
    {
      "cell_type": "code",
      "metadata": {
        "id": "g4OjDwiVseDn",
        "colab_type": "code",
        "outputId": "c39ba416-2517-412c-dda3-cb001161ba76",
        "colab": {
          "base_uri": "https://localhost:8080/",
          "height": 442
        }
      },
      "source": [
        "movies_genres_title=movies_genres_temp.groupBy('genres')\\\n",
        ".agg(F.collect_list(\"title\")\\\n",
        ".alias('titles'))\n",
        "\n",
        "movies_genres_title.show()"
      ],
      "execution_count": 15,
      "outputs": [
        {
          "output_type": "stream",
          "text": [
            "+------------------+--------------------+\n",
            "|            genres|              titles|\n",
            "+------------------+--------------------+\n",
            "|             Crime|[Heat (1995), Cas...|\n",
            "|           Romance|[Grumpier Old Men...|\n",
            "|          Thriller|[Heat (1995), Gol...|\n",
            "|         Adventure|[Toy Story (1995)...|\n",
            "|             Drama|[Waiting to Exhal...|\n",
            "|               War|[Richard III (199...|\n",
            "|       Documentary|[Nico Icon (1995)...|\n",
            "|           Fantasy|[Toy Story (1995)...|\n",
            "|           Mystery|[Copycat (1995), ...|\n",
            "|           Musical|[Pocahontas (1995...|\n",
            "|         Animation|[Toy Story (1995)...|\n",
            "|         Film-Noir|[Devil in a Blue ...|\n",
            "|(no genres listed)|[La cravate (1957...|\n",
            "|              IMAX|[Apollo 13 (1995)...|\n",
            "|            Horror|[Dracula: Dead an...|\n",
            "|           Western|[Desperado (1995)...|\n",
            "|            Comedy|[Toy Story (1995)...|\n",
            "|          Children|[Toy Story (1995)...|\n",
            "|            Action|[Heat (1995), Sud...|\n",
            "|            Sci-Fi|[Powder (1995), C...|\n",
            "+------------------+--------------------+\n",
            "\n"
          ],
          "name": "stdout"
        }
      ]
    },
    {
      "cell_type": "markdown",
      "metadata": {
        "id": "yH6owsYK-z1K",
        "colab_type": "text"
      },
      "source": [
        "## Explore data for distribution"
      ]
    },
    {
      "cell_type": "code",
      "metadata": {
        "id": "wEuqL2_k73DO",
        "colab_type": "code",
        "outputId": "3e7c9068-3174-4637-eb70-6aa18ddd7041",
        "colab": {
          "base_uri": "https://localhost:8080/",
          "height": 359
        }
      },
      "source": [
        "ratings_count=ratings_df.groupBy('rating').count()\\\n",
        ".orderBy('rating', ascending=True)\\\n",
        ".toPandas()\n",
        "\n",
        "display(ratings_count)"
      ],
      "execution_count": 16,
      "outputs": [
        {
          "output_type": "display_data",
          "data": {
            "text/html": [
              "<div>\n",
              "<style scoped>\n",
              "    .dataframe tbody tr th:only-of-type {\n",
              "        vertical-align: middle;\n",
              "    }\n",
              "\n",
              "    .dataframe tbody tr th {\n",
              "        vertical-align: top;\n",
              "    }\n",
              "\n",
              "    .dataframe thead th {\n",
              "        text-align: right;\n",
              "    }\n",
              "</style>\n",
              "<table border=\"1\" class=\"dataframe\">\n",
              "  <thead>\n",
              "    <tr style=\"text-align: right;\">\n",
              "      <th></th>\n",
              "      <th>rating</th>\n",
              "      <th>count</th>\n",
              "    </tr>\n",
              "  </thead>\n",
              "  <tbody>\n",
              "    <tr>\n",
              "      <th>0</th>\n",
              "      <td>0.5</td>\n",
              "      <td>1370</td>\n",
              "    </tr>\n",
              "    <tr>\n",
              "      <th>1</th>\n",
              "      <td>1.0</td>\n",
              "      <td>2811</td>\n",
              "    </tr>\n",
              "    <tr>\n",
              "      <th>2</th>\n",
              "      <td>1.5</td>\n",
              "      <td>1791</td>\n",
              "    </tr>\n",
              "    <tr>\n",
              "      <th>3</th>\n",
              "      <td>2.0</td>\n",
              "      <td>7551</td>\n",
              "    </tr>\n",
              "    <tr>\n",
              "      <th>4</th>\n",
              "      <td>2.5</td>\n",
              "      <td>5550</td>\n",
              "    </tr>\n",
              "    <tr>\n",
              "      <th>5</th>\n",
              "      <td>3.0</td>\n",
              "      <td>20047</td>\n",
              "    </tr>\n",
              "    <tr>\n",
              "      <th>6</th>\n",
              "      <td>3.5</td>\n",
              "      <td>13136</td>\n",
              "    </tr>\n",
              "    <tr>\n",
              "      <th>7</th>\n",
              "      <td>4.0</td>\n",
              "      <td>26818</td>\n",
              "    </tr>\n",
              "    <tr>\n",
              "      <th>8</th>\n",
              "      <td>4.5</td>\n",
              "      <td>8551</td>\n",
              "    </tr>\n",
              "    <tr>\n",
              "      <th>9</th>\n",
              "      <td>5.0</td>\n",
              "      <td>13211</td>\n",
              "    </tr>\n",
              "  </tbody>\n",
              "</table>\n",
              "</div>"
            ],
            "text/plain": [
              "   rating  count\n",
              "0     0.5   1370\n",
              "1     1.0   2811\n",
              "2     1.5   1791\n",
              "3     2.0   7551\n",
              "4     2.5   5550\n",
              "5     3.0  20047\n",
              "6     3.5  13136\n",
              "7     4.0  26818\n",
              "8     4.5   8551\n",
              "9     5.0  13211"
            ]
          },
          "metadata": {
            "tags": []
          }
        }
      ]
    },
    {
      "cell_type": "code",
      "metadata": {
        "id": "rLbJIcF989sb",
        "colab_type": "code",
        "outputId": "1286858f-4b57-4b96-acaf-445a574a6a1a",
        "colab": {
          "base_uri": "https://localhost:8080/",
          "height": 297
        }
      },
      "source": [
        "ratings_count.plot(kind ='bar',x = 'rating',y='count',rot = True,width = 0.8)"
      ],
      "execution_count": 17,
      "outputs": [
        {
          "output_type": "execute_result",
          "data": {
            "text/plain": [
              "<matplotlib.axes._subplots.AxesSubplot at 0x7f717ad53908>"
            ]
          },
          "metadata": {
            "tags": []
          },
          "execution_count": 17
        },
        {
          "output_type": "display_data",
          "data": {
            "image/png": "[encoded data removed]",
            "text/plain": [
              "<Figure size 432x288 with 1 Axes>"
            ]
          },
          "metadata": {
            "tags": [],
            "needs_background": "light"
          }
        }
      ]
    },
    {
      "cell_type": "markdown",
      "metadata": {
        "id": "RAvBy3XH_CDz",
        "colab_type": "text"
      },
      "source": [
        "The most common socre is 4.0 and the rarest score is 0.5.\n",
        "\n",
        "We can also get average score of a specfic movie,"
      ]
    },
    {
      "cell_type": "code",
      "metadata": {
        "id": "PN9IrZbKdS2D",
        "colab_type": "code",
        "colab": {
          "base_uri": "https://localhost:8080/",
          "height": 204
        },
        "outputId": "00fb50bd-5446-4d62-e362-5197aa33cee4"
      },
      "source": [
        "# average rating of movies\n",
        "ratings_df.groupBy('MovieID').agg(mean('rating')).toPandas().head()"
      ],
      "execution_count": 37,
      "outputs": [
        {
          "output_type": "execute_result",
          "data": {
            "text/html": [
              "<div>\n",
              "<style scoped>\n",
              "    .dataframe tbody tr th:only-of-type {\n",
              "        vertical-align: middle;\n",
              "    }\n",
              "\n",
              "    .dataframe tbody tr th {\n",
              "        vertical-align: top;\n",
              "    }\n",
              "\n",
              "    .dataframe thead th {\n",
              "        text-align: right;\n",
              "    }\n",
              "</style>\n",
              "<table border=\"1\" class=\"dataframe\">\n",
              "  <thead>\n",
              "    <tr style=\"text-align: right;\">\n",
              "      <th></th>\n",
              "      <th>MovieID</th>\n",
              "      <th>avg(rating)</th>\n",
              "    </tr>\n",
              "  </thead>\n",
              "  <tbody>\n",
              "    <tr>\n",
              "      <th>0</th>\n",
              "      <td>1580</td>\n",
              "      <td>3.487879</td>\n",
              "    </tr>\n",
              "    <tr>\n",
              "      <th>1</th>\n",
              "      <td>2366</td>\n",
              "      <td>3.640000</td>\n",
              "    </tr>\n",
              "    <tr>\n",
              "      <th>2</th>\n",
              "      <td>3175</td>\n",
              "      <td>3.580000</td>\n",
              "    </tr>\n",
              "    <tr>\n",
              "      <th>3</th>\n",
              "      <td>1088</td>\n",
              "      <td>3.369048</td>\n",
              "    </tr>\n",
              "    <tr>\n",
              "      <th>4</th>\n",
              "      <td>32460</td>\n",
              "      <td>4.250000</td>\n",
              "    </tr>\n",
              "  </tbody>\n",
              "</table>\n",
              "</div>"
            ],
            "text/plain": [
              "   MovieID  avg(rating)\n",
              "0     1580     3.487879\n",
              "1     2366     3.640000\n",
              "2     3175     3.580000\n",
              "3     1088     3.369048\n",
              "4    32460     4.250000"
            ]
          },
          "metadata": {
            "tags": []
          },
          "execution_count": 37
        }
      ]
    },
    {
      "cell_type": "code",
      "metadata": {
        "id": "DO0N-OuBeNMl",
        "colab_type": "code",
        "colab": {
          "base_uri": "https://localhost:8080/",
          "height": 265
        },
        "outputId": "eb819914-38b4-4f3c-80e8-9f0305585a7a"
      },
      "source": [
        "# average rating of movies\n",
        "ratings_df.groupBy('MovieID').agg(mean('rating')).toPandas()['avg(rating)'].plot(kind='hist', color='#3498db')\n",
        "plt.savefig('fig_002.png', dpi=600)"
      ],
      "execution_count": 39,
      "outputs": [
        {
          "output_type": "display_data",
          "data": {
            "image/png": "[encoded data removed]",
            "text/plain": [
              "<Figure size 432x288 with 1 Axes>"
            ]
          },
          "metadata": {
            "tags": [],
            "needs_background": "light"
          }
        }
      ]
    },
    {
      "cell_type": "code",
      "metadata": {
        "id": "aPqswdPGerwW",
        "colab_type": "code",
        "colab": {
          "base_uri": "https://localhost:8080/",
          "height": 204
        },
        "outputId": "4ea3041e-a3a9-47c3-a170-b90214b16218"
      },
      "source": [
        "# average rating from users\n",
        "ratings_df.groupBy('userID').agg(mean('rating')).toPandas().head()"
      ],
      "execution_count": 41,
      "outputs": [
        {
          "output_type": "execute_result",
          "data": {
            "text/html": [
              "<div>\n",
              "<style scoped>\n",
              "    .dataframe tbody tr th:only-of-type {\n",
              "        vertical-align: middle;\n",
              "    }\n",
              "\n",
              "    .dataframe tbody tr th {\n",
              "        vertical-align: top;\n",
              "    }\n",
              "\n",
              "    .dataframe thead th {\n",
              "        text-align: right;\n",
              "    }\n",
              "</style>\n",
              "<table border=\"1\" class=\"dataframe\">\n",
              "  <thead>\n",
              "    <tr style=\"text-align: right;\">\n",
              "      <th></th>\n",
              "      <th>userID</th>\n",
              "      <th>avg(rating)</th>\n",
              "    </tr>\n",
              "  </thead>\n",
              "  <tbody>\n",
              "    <tr>\n",
              "      <th>0</th>\n",
              "      <td>148</td>\n",
              "      <td>3.739583</td>\n",
              "    </tr>\n",
              "    <tr>\n",
              "      <th>1</th>\n",
              "      <td>463</td>\n",
              "      <td>3.787879</td>\n",
              "    </tr>\n",
              "    <tr>\n",
              "      <th>2</th>\n",
              "      <td>471</td>\n",
              "      <td>3.875000</td>\n",
              "    </tr>\n",
              "    <tr>\n",
              "      <th>3</th>\n",
              "      <td>496</td>\n",
              "      <td>3.413793</td>\n",
              "    </tr>\n",
              "    <tr>\n",
              "      <th>4</th>\n",
              "      <td>243</td>\n",
              "      <td>4.138889</td>\n",
              "    </tr>\n",
              "  </tbody>\n",
              "</table>\n",
              "</div>"
            ],
            "text/plain": [
              "   userID  avg(rating)\n",
              "0     148     3.739583\n",
              "1     463     3.787879\n",
              "2     471     3.875000\n",
              "3     496     3.413793\n",
              "4     243     4.138889"
            ]
          },
          "metadata": {
            "tags": []
          },
          "execution_count": 41
        }
      ]
    },
    {
      "cell_type": "code",
      "metadata": {
        "id": "XCTKUeHkexqu",
        "colab_type": "code",
        "colab": {
          "base_uri": "https://localhost:8080/",
          "height": 265
        },
        "outputId": "3b00db74-4532-4149-85a6-ed30e7eed1f2"
      },
      "source": [
        "# average rating from users\n",
        "ratings_df.groupBy('userID').agg(mean('rating')).toPandas()['avg(rating)'].plot(kind='hist', color='#3498db')\n",
        "plt.savefig('fig_003.png', dpi=600)"
      ],
      "execution_count": 43,
      "outputs": [
        {
          "output_type": "display_data",
          "data": {
            "image/png": "[encoded data removed]",
            "text/plain": [
              "<Figure size 432x288 with 1 Axes>"
            ]
          },
          "metadata": {
            "tags": [],
            "needs_background": "light"
          }
        }
      ]
    },
    {
      "cell_type": "markdown",
      "metadata": {
        "id": "IV-afiuwfW23",
        "colab_type": "text"
      },
      "source": [
        "The file movies.csv contains the movieId, title and genres for each movie. As you can see, the genres field is a bit tricky to use, as the genres are in the form of one string delimited by the | character: Adventure|Animation|Children|Comedy|Fantasy."
      ]
    },
    {
      "cell_type": "code",
      "metadata": {
        "id": "WnCdvrS-feDy",
        "colab_type": "code",
        "colab": {
          "base_uri": "https://localhost:8080/",
          "height": 221
        },
        "outputId": "a8524812-7504-457d-9155-c370d1e5682e"
      },
      "source": [
        "print(\"Raw movie data:\")\n",
        "movies_df.show(5, truncate=False)"
      ],
      "execution_count": 44,
      "outputs": [
        {
          "output_type": "stream",
          "text": [
            "Raw movie data:\n",
            "+-------+----------------------------------+-------------------------------------------+\n",
            "|movieId|title                             |genres                                     |\n",
            "+-------+----------------------------------+-------------------------------------------+\n",
            "|1      |Toy Story (1995)                  |Adventure|Animation|Children|Comedy|Fantasy|\n",
            "|2      |Jumanji (1995)                    |Adventure|Children|Fantasy                 |\n",
            "|3      |Grumpier Old Men (1995)           |Comedy|Romance                             |\n",
            "|4      |Waiting to Exhale (1995)          |Comedy|Drama|Romance                       |\n",
            "|5      |Father of the Bride Part II (1995)|Comedy                                     |\n",
            "+-------+----------------------------------+-------------------------------------------+\n",
            "only showing top 5 rows\n",
            "\n"
          ],
          "name": "stdout"
        }
      ]
    },
    {
      "cell_type": "markdown",
      "metadata": {
        "id": "RDYUPmUefsbE",
        "colab_type": "text"
      },
      "source": [
        "Create a DataFrame user-defined function (UDF) to extract this delimited string into a list of genres."
      ]
    },
    {
      "cell_type": "code",
      "metadata": {
        "id": "HSDdQARlfofJ",
        "colab_type": "code",
        "colab": {
          "base_uri": "https://localhost:8080/",
          "height": 204
        },
        "outputId": "a5ef1f02-d85b-4ad1-8b2d-d539d7953ff0"
      },
      "source": [
        "# define a UDF to convert the raw genres string to an array of genres and lowercase\n",
        "extract_genres = udf(lambda x: x.lower().split(\"|\"), ArrayType(StringType()))\n",
        "# test it out\n",
        "movies_df.select(\"movieId\", \"title\", extract_genres(\"genres\").alias(\"genres\")).show(5, False)"
      ],
      "execution_count": 46,
      "outputs": [
        {
          "output_type": "stream",
          "text": [
            "+-------+----------------------------------+-------------------------------------------------+\n",
            "|movieId|title                             |genres                                           |\n",
            "+-------+----------------------------------+-------------------------------------------------+\n",
            "|1      |Toy Story (1995)                  |[adventure, animation, children, comedy, fantasy]|\n",
            "|2      |Jumanji (1995)                    |[adventure, children, fantasy]                   |\n",
            "|3      |Grumpier Old Men (1995)           |[comedy, romance]                                |\n",
            "|4      |Waiting to Exhale (1995)          |[comedy, drama, romance]                         |\n",
            "|5      |Father of the Bride Part II (1995)|[comedy]                                         |\n",
            "+-------+----------------------------------+-------------------------------------------------+\n",
            "only showing top 5 rows\n",
            "\n"
          ],
          "name": "stdout"
        }
      ]
    },
    {
      "cell_type": "markdown",
      "metadata": {
        "id": "fwP9yhvLgDCe",
        "colab_type": "text"
      },
      "source": [
        "Ok, that looks better!\n",
        "\n",
        "You may also notice that the movie titles contain the year of release. It would be useful to have that as a field in your search index for filtering results (say you want to filter our recommendations to include only more recent movies).\n",
        "\n",
        "Create a UDF to extract the release year from the title using a Python regular expression."
      ]
    },
    {
      "cell_type": "code",
      "metadata": {
        "id": "XmK1EyZjg4d0",
        "colab_type": "code",
        "colab": {
          "base_uri": "https://localhost:8080/",
          "height": 34
        },
        "outputId": "120b8a96-66c7-49c4-96dc-7b2de158c1bd"
      },
      "source": [
        "import re\n",
        "# define a UDF to extract the release year from the title, and return the new title and year in a struct type\n",
        "def extract_year_fn(title):\n",
        "    result = re.search(\"\\(\\d{4}\\)\", title)\n",
        "    try:\n",
        "        if result:\n",
        "            group = result.group()\n",
        "            year = group[1:-1]\n",
        "            start_pos = result.start()\n",
        "            title = title[:start_pos-1]\n",
        "            return (title, year)\n",
        "        else:\n",
        "            return (title, 1970)\n",
        "    except:\n",
        "        print(title)\n",
        "\n",
        "extract_year = udf(extract_year_fn,\\\n",
        "                   StructType([StructField(\"title\", StringType(), True),\\\n",
        "                               StructField(\"release_date\", StringType(), True)]))\n",
        "    \n",
        "# test out our function\n",
        "s = \"Jumanji (1995)\"\n",
        "extract_year_fn(s)"
      ],
      "execution_count": 54,
      "outputs": [
        {
          "output_type": "execute_result",
          "data": {
            "text/plain": [
              "('Jumanji', '1995')"
            ]
          },
          "metadata": {
            "tags": []
          },
          "execution_count": 54
        }
      ]
    },
    {
      "cell_type": "markdown",
      "metadata": {
        "id": "JDL-MeKWkoEI",
        "colab_type": "text"
      },
      "source": [
        "Ok the function works! Now create a new DataFrame with the cleaned-up titles, release dates and genres of the movies."
      ]
    },
    {
      "cell_type": "code",
      "metadata": {
        "id": "-4KNcG9XktE8",
        "colab_type": "code",
        "colab": {
          "base_uri": "https://localhost:8080/",
          "height": 221
        },
        "outputId": "48c22079-553f-479a-d3e4-585de54066a2"
      },
      "source": [
        "movies = movies_df.select(\n",
        "    \"movieId\", extract_year(\"title\").title.alias(\"title\"),\\\n",
        "    extract_year(\"title\").release_date.alias(\"release_date\"),\\\n",
        "    extract_genres(\"genres\").alias(\"genres\"))\n",
        "\n",
        "print(\"Cleaned movie data:\")\n",
        "movies.show(5, truncate=False)"
      ],
      "execution_count": 56,
      "outputs": [
        {
          "output_type": "stream",
          "text": [
            "Cleaned movie data:\n",
            "+-------+---------------------------+------------+-------------------------------------------------+\n",
            "|movieId|title                      |release_date|genres                                           |\n",
            "+-------+---------------------------+------------+-------------------------------------------------+\n",
            "|1      |Toy Story                  |1995        |[adventure, animation, children, comedy, fantasy]|\n",
            "|2      |Jumanji                    |1995        |[adventure, children, fantasy]                   |\n",
            "|3      |Grumpier Old Men           |1995        |[comedy, romance]                                |\n",
            "|4      |Waiting to Exhale          |1995        |[comedy, drama, romance]                         |\n",
            "|5      |Father of the Bride Part II|1995        |[comedy]                                         |\n",
            "+-------+---------------------------+------------+-------------------------------------------------+\n",
            "only showing top 5 rows\n",
            "\n"
          ],
          "name": "stdout"
        }
      ]
    },
    {
      "cell_type": "markdown",
      "metadata": {
        "id": "Q9WXAFQok54B",
        "colab_type": "text"
      },
      "source": [
        "Next, join the links.csv data to movies so that there is an id for The Movie Database corresponding to each movie. You can use this id to retrieve movie poster images when displaying your recommendations later."
      ]
    },
    {
      "cell_type": "code",
      "metadata": {
        "id": "dzjcqBrzk1Pg",
        "colab_type": "code",
        "colab": {
          "base_uri": "https://localhost:8080/",
          "height": 221
        },
        "outputId": "fb64f575-8fa7-43b0-f720-61d0fcbd43c7"
      },
      "source": [
        "# join movies with links to get TMDB id\n",
        "movie_data = movies.join(links_df, movies.movieId == links_df.movieId)\\\n",
        "    .select(movies.movieId, movies.title, movies.release_date, movies.genres, links_df.tmdbId)\n",
        "\n",
        "num_movies = movie_data.count()\n",
        "\n",
        "print(\"Cleaned movie data with tmdbId links:\")\n",
        "movie_data.show(5, truncate=False)"
      ],
      "execution_count": 59,
      "outputs": [
        {
          "output_type": "stream",
          "text": [
            "Cleaned movie data with tmdbId links:\n",
            "+-------+---------------------------+------------+-------------------------------------------------+------+\n",
            "|movieId|title                      |release_date|genres                                           |tmdbId|\n",
            "+-------+---------------------------+------------+-------------------------------------------------+------+\n",
            "|1      |Toy Story                  |1995        |[adventure, animation, children, comedy, fantasy]|862   |\n",
            "|2      |Jumanji                    |1995        |[adventure, children, fantasy]                   |8844  |\n",
            "|3      |Grumpier Old Men           |1995        |[comedy, romance]                                |15602 |\n",
            "|4      |Waiting to Exhale          |1995        |[comedy, drama, romance]                         |31357 |\n",
            "|5      |Father of the Bride Part II|1995        |[comedy]                                         |11862 |\n",
            "+-------+---------------------------+------------+-------------------------------------------------+------+\n",
            "only showing top 5 rows\n",
            "\n"
          ],
          "name": "stdout"
        }
      ]
    },
    {
      "cell_type": "markdown",
      "metadata": {
        "id": "31-MlOILmF4l",
        "colab_type": "text"
      },
      "source": [
        "Display movie posters using TMDb API\n",
        "\n",
        "Run the below cell to test your access to TMDb API. You should see the Toy Story movie poster displayed inline.\n",
        "\n",
        "To install the Python package run pip install tmdbsimple\n",
        "\n",
        "Replace [YOUR KEY] below with your TMDb API key."
      ]
    },
    {
      "cell_type": "code",
      "metadata": {
        "id": "J9uuB4QMo8Kd",
        "colab_type": "code",
        "colab": {
          "base_uri": "https://localhost:8080/",
          "height": 170
        },
        "outputId": "771efc34-e318-42c2-e705-4bf85c2f72e6"
      },
      "source": [
        "pip install tmdbsimple"
      ],
      "execution_count": 64,
      "outputs": [
        {
          "output_type": "stream",
          "text": [
            "Collecting tmdbsimple\n",
            "  Downloading https://files.pythonhosted.org/packages/b4/ff/88a023899852ee1cf8e317ae960586a3c90c299072bde98a167dfee2efed/tmdbsimple-2.2.10-py2.py3-none-any.whl\n",
            "Requirement already satisfied: requests in /usr/local/lib/python3.6/dist-packages (from tmdbsimple) (2.23.0)\n",
            "Requirement already satisfied: idna<3,>=2.5 in /usr/local/lib/python3.6/dist-packages (from requests->tmdbsimple) (2.9)\n",
            "Requirement already satisfied: certifi>=2017.4.17 in /usr/local/lib/python3.6/dist-packages (from requests->tmdbsimple) (2020.4.5.1)\n",
            "Requirement already satisfied: chardet<4,>=3.0.2 in /usr/local/lib/python3.6/dist-packages (from requests->tmdbsimple) (3.0.4)\n",
            "Requirement already satisfied: urllib3!=1.25.0,!=1.25.1,<1.26,>=1.21.1 in /usr/local/lib/python3.6/dist-packages (from requests->tmdbsimple) (1.24.3)\n",
            "Installing collected packages: tmdbsimple\n",
            "Successfully installed tmdbsimple-2.2.10\n"
          ],
          "name": "stdout"
        }
      ]
    },
    {
      "cell_type": "code",
      "metadata": {
        "id": "SkWRxQM9mAGN",
        "colab_type": "code",
        "colab": {
          "base_uri": "https://localhost:8080/",
          "height": 51
        },
        "outputId": "8b2eccf8-87a5-4ab3-ea74-d0c0cb0cd6f5"
      },
      "source": [
        "try:\n",
        "    import tmdbsimple as tmdb\n",
        "    # replace this variable with your actual TMdb API key\n",
        "    tmdb.API_KEY = 'd36bba783fd1a1676e9ecfbcc6729bea'\n",
        "    print(\"Successfully imported tmdbsimple!\")\n",
        "    # base URL for TMDB poster images\n",
        "    IMAGE_URL = 'https://image.tmdb.org/t/p/w500'\n",
        "    movie_id = movie_data.first().tmdbId\n",
        "    movie_info = tmdb.Movies(movie_id).info()\n",
        "    movie_poster_url = IMAGE_URL + movie_info['poster_path']\n",
        "    display(Image(movie_poster_url, width=200))\n",
        "except Exception:\n",
        "    print(\"Cannot import tmdbsimple, no movie posters will be displayed!\")"
      ],
      "execution_count": 69,
      "outputs": [
        {
          "output_type": "stream",
          "text": [
            "Successfully imported tmdbsimple!\n",
            "Cannot import tmdbsimple, no movie posters will be displayed!\n"
          ],
          "name": "stdout"
        }
      ]
    },
    {
      "cell_type": "markdown",
      "metadata": {
        "id": "vA9CzyMwhGST",
        "colab_type": "text"
      },
      "source": [
        "# Part2: Spark ALS based approach for training model\n",
        "\n",
        "We will use an Spark ML to predict the ratings, so let's reload \"ratings.csv\" using sc.textFile and then convert it to the form of (user, item, rating) tuples."
      ]
    },
    {
      "cell_type": "code",
      "metadata": {
        "id": "Or5jpuUW_gJj",
        "colab_type": "code",
        "colab": {}
      },
      "source": [
        "new_ratings_df = spark.read.csv('./movies/ratings.csv',inferSchema=True, header =True)"
      ],
      "execution_count": 0,
      "outputs": []
    },
    {
      "cell_type": "code",
      "metadata": {
        "id": "pYuCtWKy_gJn",
        "colab_type": "code",
        "outputId": "84591bb5-1880-437d-c718-c763bcae7bb1",
        "colab": {
          "base_uri": "https://localhost:8080/",
          "height": 34
        }
      },
      "source": [
        "new_ratings_df.count()"
      ],
      "execution_count": 19,
      "outputs": [
        {
          "output_type": "execute_result",
          "data": {
            "text/plain": [
              "100836"
            ]
          },
          "metadata": {
            "tags": []
          },
          "execution_count": 19
        }
      ]
    },
    {
      "cell_type": "code",
      "metadata": {
        "id": "OZyFs6KhhgSa",
        "colab_type": "code",
        "outputId": "9c07e7e0-d6c3-49c5-de17-26d4a6d8cc6d",
        "colab": {
          "base_uri": "https://localhost:8080/",
          "height": 459
        }
      },
      "source": [
        "movie_ratings=new_ratings_df.drop('timestamp')\n",
        "movie_ratings.show()"
      ],
      "execution_count": 20,
      "outputs": [
        {
          "output_type": "stream",
          "text": [
            "+------+-------+------+\n",
            "|userId|movieId|rating|\n",
            "+------+-------+------+\n",
            "|     1|      1|   4.0|\n",
            "|     1|      3|   4.0|\n",
            "|     1|      6|   4.0|\n",
            "|     1|     47|   5.0|\n",
            "|     1|     50|   5.0|\n",
            "|     1|     70|   3.0|\n",
            "|     1|    101|   5.0|\n",
            "|     1|    110|   4.0|\n",
            "|     1|    151|   5.0|\n",
            "|     1|    157|   5.0|\n",
            "|     1|    163|   5.0|\n",
            "|     1|    216|   5.0|\n",
            "|     1|    223|   3.0|\n",
            "|     1|    231|   5.0|\n",
            "|     1|    235|   4.0|\n",
            "|     1|    260|   5.0|\n",
            "|     1|    296|   3.0|\n",
            "|     1|    316|   3.0|\n",
            "|     1|    333|   5.0|\n",
            "|     1|    349|   4.0|\n",
            "+------+-------+------+\n",
            "only showing top 20 rows\n",
            "\n"
          ],
          "name": "stdout"
        }
      ]
    },
    {
      "cell_type": "code",
      "metadata": {
        "id": "pD0SpTfihqr2",
        "colab_type": "code",
        "outputId": "776d79d3-a0fc-4f29-d6e5-8780ac4e8100",
        "colab": {
          "base_uri": "https://localhost:8080/",
          "height": 102
        }
      },
      "source": [
        "movie_ratings.printSchema() "
      ],
      "execution_count": 21,
      "outputs": [
        {
          "output_type": "stream",
          "text": [
            "root\n",
            " |-- userId: integer (nullable = true)\n",
            " |-- movieId: integer (nullable = true)\n",
            " |-- rating: double (nullable = true)\n",
            "\n"
          ],
          "name": "stdout"
        }
      ]
    },
    {
      "cell_type": "code",
      "metadata": {
        "id": "4poaHS0lhvXR",
        "colab_type": "code",
        "colab": {}
      },
      "source": [
        "# Data type convert\n",
        "from pyspark.sql.types import IntegerType, FloatType\n",
        "movie_ratings = movie_ratings.withColumn(\"userId\", movie_ratings[\"userId\"].cast(IntegerType()))\n",
        "movie_ratings = movie_ratings.withColumn(\"movieId\", movie_ratings[\"movieId\"].cast(IntegerType()))\n",
        "movie_ratings = movie_ratings.withColumn(\"rating\", movie_ratings[\"rating\"].cast(FloatType()))"
      ],
      "execution_count": 0,
      "outputs": []
    },
    {
      "cell_type": "code",
      "metadata": {
        "id": "vcGgcxsfh1Iv",
        "colab_type": "code",
        "outputId": "f5eb45c8-5db0-496a-9c5f-a8068c28b287",
        "colab": {
          "base_uri": "https://localhost:8080/",
          "height": 459
        }
      },
      "source": [
        "movie_ratings.show()"
      ],
      "execution_count": 23,
      "outputs": [
        {
          "output_type": "stream",
          "text": [
            "+------+-------+------+\n",
            "|userId|movieId|rating|\n",
            "+------+-------+------+\n",
            "|     1|      1|   4.0|\n",
            "|     1|      3|   4.0|\n",
            "|     1|      6|   4.0|\n",
            "|     1|     47|   5.0|\n",
            "|     1|     50|   5.0|\n",
            "|     1|     70|   3.0|\n",
            "|     1|    101|   5.0|\n",
            "|     1|    110|   4.0|\n",
            "|     1|    151|   5.0|\n",
            "|     1|    157|   5.0|\n",
            "|     1|    163|   5.0|\n",
            "|     1|    216|   5.0|\n",
            "|     1|    223|   3.0|\n",
            "|     1|    231|   5.0|\n",
            "|     1|    235|   4.0|\n",
            "|     1|    260|   5.0|\n",
            "|     1|    296|   3.0|\n",
            "|     1|    316|   3.0|\n",
            "|     1|    333|   5.0|\n",
            "|     1|    349|   4.0|\n",
            "+------+-------+------+\n",
            "only showing top 20 rows\n",
            "\n"
          ],
          "name": "stdout"
        }
      ]
    },
    {
      "cell_type": "markdown",
      "metadata": {
        "id": "_IkYTeZIh4an",
        "colab_type": "text"
      },
      "source": [
        "## ALS Model Selection and Evaluation\n",
        "With the ALS model, we can use a grid search to find the optimal hyperparameters."
      ]
    },
    {
      "cell_type": "code",
      "metadata": {
        "id": "UQnWOavvh_B1",
        "colab_type": "code",
        "colab": {}
      },
      "source": [
        "# import package\n",
        "from pyspark.ml.evaluation import RegressionEvaluator\n",
        "from pyspark.ml.recommendation import ALS\n",
        "from pyspark.ml.tuning import CrossValidator,ParamGridBuilder\n",
        "from pyspark.sql import Row"
      ],
      "execution_count": 0,
      "outputs": []
    },
    {
      "cell_type": "code",
      "metadata": {
        "id": "wUHqqDgtIsH3",
        "colab_type": "code",
        "colab": {}
      },
      "source": [
        "#Create test and train set\n",
        "(training,test)=movie_ratings.randomSplit([0.8,0.2])"
      ],
      "execution_count": 0,
      "outputs": []
    },
    {
      "cell_type": "code",
      "metadata": {
        "id": "e_dQTVnv_gJ3",
        "colab_type": "code",
        "colab": {}
      },
      "source": [
        "#Create ALS model\n",
        "# Build the recommendation model using ALS on the training data\n",
        "# Note we set cold start strategy to 'drop' to ensure we don't get NaN evaluation metrics\n",
        "als = ALS(maxIter=5, rank=10, regParam=0.01, userCol=\"userId\", itemCol=\"movieId\", ratingCol=\"rating\",\n",
        "          coldStartStrategy=\"drop\")\n",
        "model = als.fit(training)"
      ],
      "execution_count": 0,
      "outputs": []
    },
    {
      "cell_type": "code",
      "metadata": {
        "id": "BYjS6pQ5JQcg",
        "colab_type": "code",
        "outputId": "59d0d6b5-8a01-4bc6-ed6e-6e4d678541e1",
        "colab": {
          "base_uri": "https://localhost:8080/",
          "height": 34
        }
      },
      "source": [
        "# #Fit ALS model to training data\n",
        "# Define evaluator as RMSE\n",
        "predictions = model.transform(test)\n",
        "evaluator = RegressionEvaluator(metricName=\"rmse\", labelCol=\"rating\",\n",
        "                                predictionCol=\"prediction\")\n",
        "rmse = evaluator.evaluate(predictions)\n",
        "print(\"Root-mean-square error = \" + str(rmse))"
      ],
      "execution_count": 27,
      "outputs": [
        {
          "output_type": "stream",
          "text": [
            "Root-mean-square error = 1.1002356710845504\n"
          ],
          "name": "stdout"
        }
      ]
    },
    {
      "cell_type": "code",
      "metadata": {
        "id": "nuAsOUzRJU9q",
        "colab_type": "code",
        "colab": {}
      },
      "source": [
        "#Tune model using ParamGridBuilder\n",
        "paramGrid = ParamGridBuilder()\\\n",
        "            .addGrid(als.regParam, [0.1, 0.01, 0.001])\\\n",
        "            .addGrid(als.maxIter, [1, 3, 5])\\\n",
        "            .addGrid(als.rank, [5, 10, 15])\\\n",
        "            .build()"
      ],
      "execution_count": 0,
      "outputs": []
    },
    {
      "cell_type": "code",
      "metadata": {
        "id": "7VrlThzVKDJo",
        "colab_type": "code",
        "colab": {}
      },
      "source": [
        "# Define evaluator as RMSE\n",
        "evaluator = RegressionEvaluator(metricName=\"rmse\", labelCol=\"rating\",\n",
        "                                predictionCol=\"prediction\")"
      ],
      "execution_count": 0,
      "outputs": []
    },
    {
      "cell_type": "code",
      "metadata": {
        "id": "q-m_w-4gKG49",
        "colab_type": "code",
        "colab": {}
      },
      "source": [
        "# Build Cross validation \n",
        "crossval = CrossValidator(estimator=als,\n",
        "                          estimatorParamMaps=paramGrid,\n",
        "                          evaluator=evaluator,\n",
        "                          numFolds=3)  "
      ],
      "execution_count": 0,
      "outputs": []
    },
    {
      "cell_type": "code",
      "metadata": {
        "id": "Kf1BZkh9KJ4q",
        "colab_type": "code",
        "colab": {}
      },
      "source": [
        "#Fit ALS model to training data\n",
        "model = als.fit(training)"
      ],
      "execution_count": 0,
      "outputs": []
    },
    {
      "cell_type": "code",
      "metadata": {
        "id": "hPF_rUWVKKcQ",
        "colab_type": "code",
        "outputId": "bada9490-9851-4895-db8e-c14165707999",
        "colab": {
          "base_uri": "https://localhost:8080/",
          "height": 34
        }
      },
      "source": [
        "#Extract best model from the tuning exercise using ParamGridBuilder\n",
        "cvModel = crossval.fit(training)\n",
        "predictions = cvModel.transform(training)\n",
        "rmse = evaluator.evaluate(predictions)\n",
        "print(\"Root-mean-square error = \" + str(rmse))"
      ],
      "execution_count": 32,
      "outputs": [
        {
          "output_type": "stream",
          "text": [
            "Root-mean-square error = 0.655479548057451\n"
          ],
          "name": "stdout"
        }
      ]
    },
    {
      "cell_type": "code",
      "metadata": {
        "id": "L0LgrYw_bOYq",
        "colab_type": "code",
        "colab": {}
      },
      "source": [
        "#Generate predictions and evaluate using RMSE\n",
        "best_model = cvModel.bestModel\n",
        "predictions=best_model.transform(test)\n",
        "rmse = evaluator.evaluate(predictions)"
      ],
      "execution_count": 0,
      "outputs": []
    },
    {
      "cell_type": "code",
      "metadata": {
        "id": "rFOsKhfpbXVE",
        "colab_type": "code",
        "outputId": "427758ad-921c-4fac-8fed-be36c8c132e8",
        "colab": {
          "base_uri": "https://localhost:8080/",
          "height": 102
        }
      },
      "source": [
        "#Print evaluation metrics and model parameters\n",
        "print (\"RMSE = \"+str(rmse))\n",
        "print (\"**Best Model**\")\n",
        "print (\" Rank:\"+str(best_model._java_obj.parent().getRank()))\n",
        "print (\" MaxIter:\"+str(best_model._java_obj.parent().getMaxIter()))\n",
        "print (\" RegParam:\"+str(best_model._java_obj.parent().getRegParam()))"
      ],
      "execution_count": 34,
      "outputs": [
        {
          "output_type": "stream",
          "text": [
            "RMSE = 0.8934168977148971\n",
            "**Best Model**\n",
            " Rank:5\n",
            " MaxIter:5\n",
            " RegParam:0.1\n"
          ],
          "name": "stdout"
        }
      ]
    },
    {
      "cell_type": "markdown",
      "metadata": {
        "id": "WvYHQKYliQUi",
        "colab_type": "text"
      },
      "source": [
        "## Model Testing\n",
        "And finally, make a prediction and check the testing error."
      ]
    },
    {
      "cell_type": "code",
      "metadata": {
        "id": "PBkFqNFrzFU0",
        "colab_type": "code",
        "colab": {
          "base_uri": "https://localhost:8080/",
          "height": 34
        },
        "outputId": "e482f806-4b7d-4caf-ed6a-634ff9b35fcc"
      },
      "source": [
        "#Generate predictions and evaluate using RMSE\n",
        "predictions=best_model.transform(test)\n",
        "rmse = evaluator.evaluate(predictions)\n",
        "print (\"RMSE = \"+str(rmse))"
      ],
      "execution_count": 102,
      "outputs": [
        {
          "output_type": "stream",
          "text": [
            "RMSE = 0.8934168977148971\n"
          ],
          "name": "stdout"
        }
      ]
    },
    {
      "cell_type": "markdown",
      "metadata": {
        "id": "D-IUAHM_zLJR",
        "colab_type": "text"
      },
      "source": [
        "### Re-fitting"
      ]
    },
    {
      "cell_type": "code",
      "metadata": {
        "id": "pCRC-hjIzTY9",
        "colab_type": "code",
        "colab": {}
      },
      "source": [
        "# re-fitting using best parameters and whole data set\n",
        "MR_ALS = ALS(maxIter=5, regParam=0.01, rank=5,userCol=\"userId\", itemCol=\"movieId\", ratingCol=\"rating\", coldStartStrategy=\"drop\")\n",
        "best_model=MR_ALS.fit(movie_ratings)\n"
      ],
      "execution_count": 0,
      "outputs": []
    },
    {
      "cell_type": "markdown",
      "metadata": {
        "id": "owFaLSVMyxOp",
        "colab_type": "text"
      },
      "source": [
        "### All Data"
      ]
    },
    {
      "cell_type": "code",
      "metadata": {
        "id": "yhu-QFaAzrzq",
        "colab_type": "code",
        "colab": {
          "base_uri": "https://localhost:8080/",
          "height": 221
        },
        "outputId": "4f4d07bb-be73-4414-cf6d-7876a132abda"
      },
      "source": [
        "#extract all data\n",
        "alldata=best_model.transform(movie_ratings)\n",
        "rmse = evaluator.evaluate(alldata)\n",
        "print (\"RMSE = \"+str(rmse))\n",
        "\n",
        "#round predictions to 0.5\n",
        "alldata=alldata.withColumn('rounded_predictions', F.round(F.col('prediction')*2)/2)\n",
        "alldata_temp=alldata.toPandas()\n",
        "alldata_temp.head()"
      ],
      "execution_count": 105,
      "outputs": [
        {
          "output_type": "stream",
          "text": [
            "RMSE = 0.6433114451517846\n"
          ],
          "name": "stdout"
        },
        {
          "output_type": "execute_result",
          "data": {
            "text/html": [
              "<div>\n",
              "<style scoped>\n",
              "    .dataframe tbody tr th:only-of-type {\n",
              "        vertical-align: middle;\n",
              "    }\n",
              "\n",
              "    .dataframe tbody tr th {\n",
              "        vertical-align: top;\n",
              "    }\n",
              "\n",
              "    .dataframe thead th {\n",
              "        text-align: right;\n",
              "    }\n",
              "</style>\n",
              "<table border=\"1\" class=\"dataframe\">\n",
              "  <thead>\n",
              "    <tr style=\"text-align: right;\">\n",
              "      <th></th>\n",
              "      <th>userId</th>\n",
              "      <th>movieId</th>\n",
              "      <th>rating</th>\n",
              "      <th>prediction</th>\n",
              "      <th>rounded_predictions</th>\n",
              "    </tr>\n",
              "  </thead>\n",
              "  <tbody>\n",
              "    <tr>\n",
              "      <th>0</th>\n",
              "      <td>191</td>\n",
              "      <td>148</td>\n",
              "      <td>5.0</td>\n",
              "      <td>5.299272</td>\n",
              "      <td>5.5</td>\n",
              "    </tr>\n",
              "    <tr>\n",
              "      <th>1</th>\n",
              "      <td>133</td>\n",
              "      <td>471</td>\n",
              "      <td>4.0</td>\n",
              "      <td>3.266256</td>\n",
              "      <td>3.5</td>\n",
              "    </tr>\n",
              "    <tr>\n",
              "      <th>2</th>\n",
              "      <td>597</td>\n",
              "      <td>471</td>\n",
              "      <td>2.0</td>\n",
              "      <td>4.355469</td>\n",
              "      <td>4.5</td>\n",
              "    </tr>\n",
              "    <tr>\n",
              "      <th>3</th>\n",
              "      <td>385</td>\n",
              "      <td>471</td>\n",
              "      <td>4.0</td>\n",
              "      <td>3.597659</td>\n",
              "      <td>3.5</td>\n",
              "    </tr>\n",
              "    <tr>\n",
              "      <th>4</th>\n",
              "      <td>436</td>\n",
              "      <td>471</td>\n",
              "      <td>3.0</td>\n",
              "      <td>3.226183</td>\n",
              "      <td>3.0</td>\n",
              "    </tr>\n",
              "  </tbody>\n",
              "</table>\n",
              "</div>"
            ],
            "text/plain": [
              "   userId  movieId  rating  prediction  rounded_predictions\n",
              "0     191      148     5.0    5.299272                  5.5\n",
              "1     133      471     4.0    3.266256                  3.5\n",
              "2     597      471     2.0    4.355469                  4.5\n",
              "3     385      471     4.0    3.597659                  3.5\n",
              "4     436      471     3.0    3.226183                  3.0"
            ]
          },
          "metadata": {
            "tags": []
          },
          "execution_count": 105
        }
      ]
    },
    {
      "cell_type": "code",
      "metadata": {
        "id": "OJPsnk1Q0OgY",
        "colab_type": "code",
        "colab": {
          "base_uri": "https://localhost:8080/",
          "height": 265
        },
        "outputId": "7b8b8543-7ef5-4c59-d6e1-0a06f8b0d467"
      },
      "source": [
        "fig = plt.figure()\n",
        "ax = fig.add_subplot(111, projection='3d')\n",
        "x=alldata_temp['userId']\n",
        "y=alldata_temp['movieId']\n",
        "z=alldata_temp['rating']\n",
        "z1=alldata_temp['rounded_predictions']\n",
        "ax.scatter(x, y, z, label='rating')\n",
        "ax.scatter(x, y, z1, label='prediction')\n",
        "ax.legend()\n",
        "ax.set_xlabel('userId')\n",
        "ax.set_ylabel('movieId')\n",
        "ax.set_zlabel('rating')\n",
        "ax.set_title('Actual & predicted rating by users and movie ID')"
      ],
      "execution_count": 108,
      "outputs": [
        {
          "output_type": "execute_result",
          "data": {
            "text/plain": [
              "Text(0.5, 0.92, 'Actual & predicted rating by users and movie ID')"
            ]
          },
          "metadata": {
            "tags": []
          },
          "execution_count": 108
        },
        {
          "output_type": "display_data",
          "data": {
            "image/png": "[encoded data removed]",
            "text/plain": [
              "<Figure size 432x288 with 1 Axes>"
            ]
          },
          "metadata": {
            "tags": [],
            "needs_background": "light"
          }
        }
      ]
    },
    {
      "cell_type": "markdown",
      "metadata": {
        "id": "wtd1eBTg1nBa",
        "colab_type": "text"
      },
      "source": [
        "##Application and Performance"
      ]
    },
    {
      "cell_type": "markdown",
      "metadata": {
        "id": "YxwHhLdm0iHt",
        "colab_type": "text"
      },
      "source": [
        "### For the movie with most number of ratings"
      ]
    },
    {
      "cell_type": "code",
      "metadata": {
        "id": "wBZckbxz0l6V",
        "colab_type": "code",
        "colab": {}
      },
      "source": [
        "#plot actual and predicted ratings for movie with most number of ratings\n",
        "movie_rated_most=alldata.where('movieId = 356').select('rating', 'rounded_predictions').orderBy('rating')"
      ],
      "execution_count": 0,
      "outputs": []
    },
    {
      "cell_type": "code",
      "metadata": {
        "id": "HVfWFYim0q0I",
        "colab_type": "code",
        "colab": {
          "base_uri": "https://localhost:8080/",
          "height": 34
        },
        "outputId": "e309c70e-68e4-4723-b22f-0e93f592bc00"
      },
      "source": [
        "RMSE_evaluator_rounded = RegressionEvaluator(metricName=\"rmse\", labelCol=\"rating\", predictionCol=\"rounded_predictions\")\n",
        "print(RMSE_evaluator_rounded.evaluate(movie_rated_most))"
      ],
      "execution_count": 110,
      "outputs": [
        {
          "output_type": "stream",
          "text": [
            "0.7360661064536995\n"
          ],
          "name": "stdout"
        }
      ]
    },
    {
      "cell_type": "code",
      "metadata": {
        "id": "H_TQ6xnT0wHj",
        "colab_type": "code",
        "colab": {}
      },
      "source": [
        "movie_rated_most=movie_rated_most.toPandas()"
      ],
      "execution_count": 0,
      "outputs": []
    },
    {
      "cell_type": "code",
      "metadata": {
        "id": "XXMX00I201Kj",
        "colab_type": "code",
        "colab": {
          "base_uri": "https://localhost:8080/",
          "height": 34
        },
        "outputId": "fbf44764-7073-4f1d-93db-8af5479514f0"
      },
      "source": [
        "abs(movie_rated_most.rounded_predictions-movie_rated_most.rating).mean()"
      ],
      "execution_count": 112,
      "outputs": [
        {
          "output_type": "execute_result",
          "data": {
            "text/plain": [
              "0.5638297872340425"
            ]
          },
          "metadata": {
            "tags": []
          },
          "execution_count": 112
        }
      ]
    },
    {
      "cell_type": "code",
      "metadata": {
        "id": "vb9pUlZg04Fe",
        "colab_type": "code",
        "colab": {
          "base_uri": "https://localhost:8080/",
          "height": 312
        },
        "outputId": "de7276e6-2c5e-42db-d9b0-9828cf8abcc6"
      },
      "source": [
        "fig = plt.figure()\n",
        "plt.plot(movie_rated_most.index, movie_rated_most.rating, 'x', label='rating')\n",
        "plt.plot(movie_rated_most.index, movie_rated_most.rounded_predictions, '.', label='predictions')\n",
        "plt.xlabel('index')\n",
        "plt.ylabel('ratings')\n",
        "plt.legend()\n",
        "plt.title('Actual & predicted ratings for movie with 329 ratings')"
      ],
      "execution_count": 114,
      "outputs": [
        {
          "output_type": "execute_result",
          "data": {
            "text/plain": [
              "Text(0.5, 1.0, 'Actual & predicted ratings for movie with 329 ratings')"
            ]
          },
          "metadata": {
            "tags": []
          },
          "execution_count": 114
        },
        {
          "output_type": "display_data",
          "data": {
            "image/png": "[encoded data removed]",
            "text/plain": [
              "<Figure size 432x288 with 1 Axes>"
            ]
          },
          "metadata": {
            "tags": [],
            "needs_background": "light"
          }
        }
      ]
    },
    {
      "cell_type": "markdown",
      "metadata": {
        "id": "bjJ1qOHZ099G",
        "colab_type": "text"
      },
      "source": [
        "### Movie with only one rating"
      ]
    },
    {
      "cell_type": "code",
      "metadata": {
        "id": "vcEGgm5P1BeN",
        "colab_type": "code",
        "colab": {}
      },
      "source": [
        "#plot actual and predicted ratings for movie with 1 ratings\n",
        "movie_rated_least=alldata.join(movies_result, movies_result.movieId==alldata.movieId, 'left')\\\n",
        ".where('count=1').select('rating', 'rounded_predictions').orderBy('rating')"
      ],
      "execution_count": 0,
      "outputs": []
    },
    {
      "cell_type": "code",
      "metadata": {
        "id": "be0iAtGW1FNy",
        "colab_type": "code",
        "colab": {
          "base_uri": "https://localhost:8080/",
          "height": 34
        },
        "outputId": "a3e267c5-9c36-47b2-e81d-25aaa340dcc1"
      },
      "source": [
        "print(RMSE_evaluator_rounded.evaluate(movie_rated_least))"
      ],
      "execution_count": 116,
      "outputs": [
        {
          "output_type": "stream",
          "text": [
            "0.06542419288389865\n"
          ],
          "name": "stdout"
        }
      ]
    },
    {
      "cell_type": "code",
      "metadata": {
        "id": "NJAycu0h1LAL",
        "colab_type": "code",
        "colab": {}
      },
      "source": [
        "movie_rated_least=movie_rated_least.toPandas()\n"
      ],
      "execution_count": 0,
      "outputs": []
    },
    {
      "cell_type": "code",
      "metadata": {
        "id": "LurDDREv1R-5",
        "colab_type": "code",
        "colab": {
          "base_uri": "https://localhost:8080/",
          "height": 312
        },
        "outputId": "d0d20820-95cc-495f-d342-7426fa64c00f"
      },
      "source": [
        "fig = plt.figure()\n",
        "plt.plot(movie_rated_least.index, movie_rated_least.rating, '*', label='rating')\n",
        "plt.plot(movie_rated_least.index, movie_rated_least.rounded_predictions, '-', label='predictions')\n",
        "plt.xlabel('index')\n",
        "plt.ylabel('ratings')\n",
        "plt.legend()\n",
        "plt.title('Actual & predicted ratings for movies with 1 ratings')"
      ],
      "execution_count": 119,
      "outputs": [
        {
          "output_type": "execute_result",
          "data": {
            "text/plain": [
              "Text(0.5, 1.0, 'Actual & predicted ratings for movies with 1 ratings')"
            ]
          },
          "metadata": {
            "tags": []
          },
          "execution_count": 119
        },
        {
          "output_type": "display_data",
          "data": {
            "image/png": "[encoded data removed]",
            "text/plain": [
              "<Figure size 432x288 with 1 Axes>"
            ]
          },
          "metadata": {
            "tags": [],
            "needs_background": "light"
          }
        }
      ]
    },
    {
      "cell_type": "markdown",
      "metadata": {
        "id": "viBvcG9218g_",
        "colab_type": "text"
      },
      "source": [
        "##User rated most movies"
      ]
    },
    {
      "cell_type": "code",
      "metadata": {
        "id": "ixieM3fV2BCk",
        "colab_type": "code",
        "colab": {}
      },
      "source": [
        "#plot actual and predicted ratings for most active user\n",
        "user_rate_most=alldata.where('userId = 414').select('rating', 'rounded_predictions').orderBy('rating')"
      ],
      "execution_count": 0,
      "outputs": []
    },
    {
      "cell_type": "code",
      "metadata": {
        "id": "wBoRoEuy2D-Y",
        "colab_type": "code",
        "colab": {
          "base_uri": "https://localhost:8080/",
          "height": 34
        },
        "outputId": "fe3212db-793a-40bc-e87a-0e115c324e11"
      },
      "source": [
        "print(RMSE_evaluator_rounded.evaluate(user_rate_most))"
      ],
      "execution_count": 121,
      "outputs": [
        {
          "output_type": "stream",
          "text": [
            "0.55339440450593\n"
          ],
          "name": "stdout"
        }
      ]
    },
    {
      "cell_type": "code",
      "metadata": {
        "id": "U3MKMxbG2ITk",
        "colab_type": "code",
        "colab": {}
      },
      "source": [
        "user_rate_most=user_rate_most.toPandas()"
      ],
      "execution_count": 0,
      "outputs": []
    },
    {
      "cell_type": "code",
      "metadata": {
        "id": "HLve0A2Z2I3E",
        "colab_type": "code",
        "colab": {
          "base_uri": "https://localhost:8080/",
          "height": 312
        },
        "outputId": "3b8c1135-b6a3-4c31-c792-360b46ed9079"
      },
      "source": [
        "fig = plt.figure()\n",
        "plt.plot(user_rate_most.index, user_rate_most.rating, 'X', label='rating')\n",
        "plt.plot(user_rate_most.index, user_rate_most.rounded_predictions, '.', label='predictions')\n",
        "plt.xlabel('index')\n",
        "plt.ylabel('ratings')\n",
        "plt.legend()\n",
        "plt.title('Actual & predicted ratings for user rated 2698 movies')"
      ],
      "execution_count": 124,
      "outputs": [
        {
          "output_type": "execute_result",
          "data": {
            "text/plain": [
              "Text(0.5, 1.0, 'Actual & predicted ratings for user rated 2698 movies')"
            ]
          },
          "metadata": {
            "tags": []
          },
          "execution_count": 124
        },
        {
          "output_type": "display_data",
          "data": {
            "image/png": "[encoded data removed]",
            "text/plain": [
              "<Figure size 432x288 with 1 Axes>"
            ]
          },
          "metadata": {
            "tags": [],
            "needs_background": "light"
          }
        }
      ]
    },
    {
      "cell_type": "markdown",
      "metadata": {
        "id": "c5Z07k7I2RDz",
        "colab_type": "text"
      },
      "source": [
        "##Find general threshold for numbers of ratings to stable prediction"
      ]
    },
    {
      "cell_type": "code",
      "metadata": {
        "id": "xDD1Emah2YoC",
        "colab_type": "code",
        "colab": {}
      },
      "source": [
        "#plot average abs error by each movie and number of ratings\n",
        "average_by_movie=alldata.groupBy('movieId')\\\n",
        ".agg(F.mean(F.abs(alldata.rating-alldata.rounded_predictions)).alias('MEBM'), F.count('rating').alias('number_of_users_rated'))\\\n",
        ".orderBy('MEBM', ascending=False)"
      ],
      "execution_count": 0,
      "outputs": []
    },
    {
      "cell_type": "code",
      "metadata": {
        "id": "iVRbxWAM2dg-",
        "colab_type": "code",
        "colab": {
          "base_uri": "https://localhost:8080/",
          "height": 313
        },
        "outputId": "ae843e98-bc0d-4bb0-cced-884cf3fcc6ae"
      },
      "source": [
        "tmp=average_by_movie.toPandas()\n",
        "fig = plt.figure()\n",
        "tmp=sns.scatterplot(x='number_of_users_rated', y='MEBM', data=tmp)\n",
        "tmp.set_title('average abs error (per movies)')\n",
        "display(tmp)"
      ],
      "execution_count": 126,
      "outputs": [
        {
          "output_type": "display_data",
          "data": {
            "text/plain": [
              "<matplotlib.axes._subplots.AxesSubplot at 0x7f71766acb70>"
            ]
          },
          "metadata": {
            "tags": []
          }
        },
        {
          "output_type": "display_data",
          "data": {
            "image/png": "[encoded data removed]",
            "text/plain": [
              "<Figure size 432x288 with 1 Axes>"
            ]
          },
          "metadata": {
            "tags": [],
            "needs_background": "light"
          }
        }
      ]
    },
    {
      "cell_type": "code",
      "metadata": {
        "id": "c2yG-B7G27CK",
        "colab_type": "code",
        "colab": {}
      },
      "source": [
        "#plot average abs error by number of ratings\n",
        "average_by_rating_number=alldata.join(movies_result, movies_result.movieId==alldata.movieId, 'left')\\\n",
        ".groupBy('count')\\\n",
        ".agg(F.mean(F.abs(alldata.rating-alldata.rounded_predictions)).alias('MEBC'))\\\n",
        ".orderBy('count', ascending=False)"
      ],
      "execution_count": 0,
      "outputs": []
    },
    {
      "cell_type": "code",
      "metadata": {
        "id": "uA_mxITW2-oR",
        "colab_type": "code",
        "colab": {
          "base_uri": "https://localhost:8080/",
          "height": 312
        },
        "outputId": "99af3999-6f8a-47fd-b6cc-3ffae41a875f"
      },
      "source": [
        "tmp=average_by_rating_number.toPandas()\n",
        "fig = plt.figure()\n",
        "tmp=sns.scatterplot(x='count', y='MEBC', data=tmp)\n",
        "tmp.set_title('average abs error by number of ratings')\n",
        "display(tmp)"
      ],
      "execution_count": 130,
      "outputs": [
        {
          "output_type": "display_data",
          "data": {
            "text/plain": [
              "<matplotlib.axes._subplots.AxesSubplot at 0x7f7175ae2c50>"
            ]
          },
          "metadata": {
            "tags": []
          }
        },
        {
          "output_type": "display_data",
          "data": {
            "image/png": "[encoded data removed]",
            "text/plain": [
              "<Figure size 432x288 with 1 Axes>"
            ]
          },
          "metadata": {
            "tags": [],
            "needs_background": "light"
          }
        }
      ]
    },
    {
      "cell_type": "markdown",
      "metadata": {
        "id": "x82OLAJm11jL",
        "colab_type": "text"
      },
      "source": [
        "# 新段落"
      ]
    },
    {
      "cell_type": "markdown",
      "metadata": {
        "id": "826vcQaPi2_i",
        "colab_type": "text"
      },
      "source": [
        "# Part3:Practical Use Example of the model"
      ]
    },
    {
      "cell_type": "markdown",
      "metadata": {
        "id": "UQVwbcbAitID",
        "colab_type": "text"
      },
      "source": [
        "## Recommend moive to users with id: 575, 232.\n",
        "you can choose some users to recommend the moives"
      ]
    },
    {
      "cell_type": "code",
      "metadata": {
        "id": "lZO_W4wX3Kze",
        "colab_type": "code",
        "colab": {
          "base_uri": "https://localhost:8080/",
          "height": 272
        },
        "outputId": "fe714b7f-7488-4184-f0d4-c2ad541443a3"
      },
      "source": [
        "user_list=set(['575', '232'])\n",
        "\n",
        "recommend_for_all=best_model.recommendForAllUsers(5)\n",
        "\n",
        "recommend_5=recommend_for_all.where(recommend_for_all.userId.isin(user_list))\\\n",
        ".select('userId', F.explode('recommendations'))\\\n",
        ".select('userId', F.col('col').movieId.alias('movieId'), F.col('col').rating.alias('rating'))\n",
        "\n",
        "recommend_5=recommend_5.join(movies_df, recommend_5.movieId==movies_df.movieId, 'left')\\\n",
        ".select('userId', movies_df.movieId, 'title','genres')\n",
        "\n",
        "recommend_5=recommend_5.join(movies_result, recommend_5.movieId==movies_result.movieId, 'left')\n",
        "\n",
        "recommend_5.show()"
      ],
      "execution_count": 131,
      "outputs": [
        {
          "output_type": "stream",
          "text": [
            "+------+-------+--------------------+--------------------+-------+-----+\n",
            "|userId|movieId|               title|              genres|movieId|count|\n",
            "+------+-------+--------------------+--------------------+-------+-----+\n",
            "|   232|   5034|Truly, Madly, Dee...|       Drama|Romance|   5034|    3|\n",
            "|   232|   3200|Last Detail, The ...|        Comedy|Drama|   3200|    8|\n",
            "|   232|  84847|         Emma (2009)|Comedy|Drama|Romance|  84847|    2|\n",
            "|   232|   2771|Brokedown Palace ...|               Drama|   2771|    4|\n",
            "|   232|   8477|    Jetée, La (1962)|      Romance|Sci-Fi|   8477|    2|\n",
            "|   575|  49932|Inland Empire (2006)|Drama|Mystery|Thr...|  49932|    6|\n",
            "|   575|  46572|       Edmond (2005)|      Drama|Thriller|  46572|    3|\n",
            "|   575|   6993|Hannah and Her Si...|Comedy|Drama|Romance|   6993|   13|\n",
            "|   575|  48322|Jackass Number Tw...|  Comedy|Documentary|  48322|    7|\n",
            "|   575|   6375|Gigantic (A Tale ...|         Documentary|   6375|    4|\n",
            "+------+-------+--------------------+--------------------+-------+-----+\n",
            "\n"
          ],
          "name": "stdout"
        }
      ]
    },
    {
      "cell_type": "markdown",
      "metadata": {
        "id": "7TGRAY-2jBj8",
        "colab_type": "text"
      },
      "source": [
        "## Find the similar moives for moive with id: 463, 471\n",
        "You can find the similar moives based on the ALS results"
      ]
    },
    {
      "cell_type": "code",
      "metadata": {
        "id": "K3QeFeYP3R-J",
        "colab_type": "code",
        "colab": {
          "base_uri": "https://localhost:8080/",
          "height": 34
        },
        "outputId": "76fdfe51-7c93-43d2-fc5f-bae7aba3660c"
      },
      "source": [
        "all_movie_id=ratings_df.select('movieId').distinct()\n",
        "is_rated=all_movie_id.where('movieId=471').count()==1\n",
        "\n",
        "print('Movie with id 471 was rated? {}'.format(is_rated))"
      ],
      "execution_count": 132,
      "outputs": [
        {
          "output_type": "stream",
          "text": [
            "Movie with id 471 was rated? True\n"
          ],
          "name": "stdout"
        }
      ]
    },
    {
      "cell_type": "code",
      "metadata": {
        "id": "9RNk8q8H3VUC",
        "colab_type": "code",
        "colab": {}
      },
      "source": [
        "tmp_compare=best_model.itemFactors\n",
        "\n",
        "compare=tmp_compare.select('id', 'features').where('id = 471').withColumnRenamed('id', 'id1').withColumnRenamed('features', 'f1')\\\n",
        ".crossJoin(tmp_compare.select('id', 'features').where('id != 471').withColumnRenamed('id', 'id2').withColumnRenamed('features', 'f2'))"
      ],
      "execution_count": 0,
      "outputs": []
    },
    {
      "cell_type": "code",
      "metadata": {
        "id": "EBPC-hRQ3Zty",
        "colab_type": "code",
        "colab": {}
      },
      "source": [
        "def cos_sim(a,b):\n",
        "    return float(np.dot(a, b) / (np.linalg.norm(a) * np.linalg.norm(b)))\n",
        "cosine=udf(cos_sim, FloatType())"
      ],
      "execution_count": 0,
      "outputs": []
    },
    {
      "cell_type": "code",
      "metadata": {
        "id": "0wekg1Yz3btq",
        "colab_type": "code",
        "colab": {
          "base_uri": "https://localhost:8080/",
          "height": 272
        },
        "outputId": "d5ff00be-229c-4619-c7ae-488c4b610a9d"
      },
      "source": [
        "result=compare.withColumn('similarity', cosine(F.col('f1'), F.col('f2'))).where('similarity>0.99').orderBy('similarity', ascending=False)\n",
        "result=result.join(movies_df, movies_df.movieId==result.id2,'left').select('title','genres')\n",
        "result.show()"
      ],
      "execution_count": 138,
      "outputs": [
        {
          "output_type": "stream",
          "text": [
            "+--------------------+--------------------+\n",
            "|               title|              genres|\n",
            "+--------------------+--------------------+\n",
            "|Sense and Sensibi...|       Drama|Romance|\n",
            "|Michael Collins (...|               Drama|\n",
            "|King of Comedy, T...|        Comedy|Drama|\n",
            "|     Car Wash (1976)|              Comedy|\n",
            "|Moscow on the Hud...|        Comedy|Drama|\n",
            "|   Annie Hall (1977)|      Comedy|Romance|\n",
            "|Royal Tenenbaums,...|        Comedy|Drama|\n",
            "|Porco Rosso (Crim...|Adventure|Animati...|\n",
            "|    Gallipoli (1981)|           Drama|War|\n",
            "| Hustler, The (1961)|               Drama|\n",
            "+--------------------+--------------------+\n",
            "\n"
          ],
          "name": "stdout"
        }
      ]
    },
    {
      "cell_type": "markdown",
      "metadata": {
        "id": "FsVlmvr83n1x",
        "colab_type": "text"
      },
      "source": [
        "## movie ID:463"
      ]
    },
    {
      "cell_type": "markdown",
      "metadata": {
        "id": "yuZbRN003sHT",
        "colab_type": "text"
      },
      "source": [
        "## Special Groups"
      ]
    },
    {
      "cell_type": "code",
      "metadata": {
        "id": "7Y4uzuz_3vpg",
        "colab_type": "code",
        "colab": {}
      },
      "source": [
        "average_by_user=alldata.groupBy('userId')\\\n",
        ".agg(F.mean(F.abs(alldata.rating-alldata.rounded_predictions)).alias('MEBU'), F.count('rating').alias('number_of_movies_rated'))\\\n",
        ".orderBy('MEBU', ascending=False)"
      ],
      "execution_count": 0,
      "outputs": []
    },
    {
      "cell_type": "code",
      "metadata": {
        "id": "84pt7d323ygO",
        "colab_type": "code",
        "colab": {
          "base_uri": "https://localhost:8080/",
          "height": 459
        },
        "outputId": "c00b4a01-1f81-4f34-f180-028a8779376b"
      },
      "source": [
        "average_by_user.where('MEBU>0.5').show()"
      ],
      "execution_count": 140,
      "outputs": [
        {
          "output_type": "stream",
          "text": [
            "+------+------------------+----------------------+\n",
            "|userId|              MEBU|number_of_movies_rated|\n",
            "+------+------------------+----------------------+\n",
            "|   542|0.8672566371681416|                   113|\n",
            "|   328|0.8509803921568627|                   255|\n",
            "|   393|0.8211382113821138|                   123|\n",
            "|   399|0.8194444444444444|                    36|\n",
            "|   197|               0.8|                    35|\n",
            "|   517|              0.79|                   400|\n",
            "|   160|0.7757437070938215|                   437|\n",
            "|   174|0.7686567164179104|                    67|\n",
            "|   136|0.7612612612612613|                   111|\n",
            "|   308|0.7608695652173914|                   115|\n",
            "|   153|0.7597765363128491|                   179|\n",
            "|   301|              0.75|                   114|\n",
            "|    76|0.7394957983193278|                   119|\n",
            "|   598|0.7380952380952381|                    21|\n",
            "|   500|0.7325581395348837|                    86|\n",
            "|   259|0.7241379310344828|                    29|\n",
            "|   396|0.7142857142857143|                    28|\n",
            "|   264|0.7142857142857143|                    56|\n",
            "|   591|0.7129629629629629|                    54|\n",
            "|    14|0.7083333333333334|                    48|\n",
            "+------+------------------+----------------------+\n",
            "only showing top 20 rows\n",
            "\n"
          ],
          "name": "stdout"
        }
      ]
    }
  ]
}